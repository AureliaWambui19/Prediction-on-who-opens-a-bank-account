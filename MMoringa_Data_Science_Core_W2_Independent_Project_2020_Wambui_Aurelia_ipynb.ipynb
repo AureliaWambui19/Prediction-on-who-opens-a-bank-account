{
  "nbformat": 4,
  "nbformat_minor": 0,
  "metadata": {
    "colab": {
      "name": "MMoringa_Data_Science_Core_W2_Independent_Project_2020_Wambui Aurelia.ipynb.ipynb",
      "provenance": [],
      "collapsed_sections": [],
      "authorship_tag": "ABX9TyMvuUoq9PosdFWISSBJ8m1F",
      "include_colab_link": true
    },
    "kernelspec": {
      "name": "python3",
      "display_name": "Python 3"
    }
  },
  "cells": [
    {
      "cell_type": "markdown",
      "metadata": {
        "id": "view-in-github",
        "colab_type": "text"
      },
      "source": [
        "<a href=\"https://colab.research.google.com/github/AureliaWambui19/Prediction-on-who-opens-a-bank-account/blob/main/MMoringa_Data_Science_Core_W2_Independent_Project_2020_Wambui_Aurelia_ipynb.ipynb\" target=\"_parent\"><img src=\"https://colab.research.google.com/assets/colab-badge.svg\" alt=\"Open In Colab\"/></a>"
      ]
    },
    {
      "cell_type": "markdown",
      "metadata": {
        "id": "gCtGZi9ew0co"
      },
      "source": [
        "# 1.Defining the Question"
      ]
    },
    {
      "cell_type": "markdown",
      "metadata": {
        "id": "P2wQj4Vfw-Uz"
      },
      "source": [
        "1.1 Specifying the question"
      ]
    },
    {
      "cell_type": "code",
      "metadata": {
        "id": "szyHAFStxF5z"
      },
      "source": [
        "# Research on financial inclusion in  Kenya, Rwanda, Tanzania and Uganda  \n",
        "# Access to bank accounts has been regarded as an indicator of financial inclusion\n",
        "# Provide insights into some of the key demographic factors that might drive individual's financial outcomes."
      ],
      "execution_count": null,
      "outputs": []
    },
    {
      "cell_type": "markdown",
      "metadata": {
        "id": "xj4Es_BOxI0t"
      },
      "source": [
        "1.2 Defining the Metric for Success"
      ]
    },
    {
      "cell_type": "markdown",
      "metadata": {
        "id": "qcbBFG6MxWQr"
      },
      "source": [
        "1.3 Understanding the context"
      ]
    },
    {
      "cell_type": "code",
      "metadata": {
        "id": "AzDc8h_oxaMW"
      },
      "source": [
        "# Variable Definitions  for this notebook/project : http://bit.ly/VariableDefinitions \n",
        "# Financial Inclusion remains one of the main obstacles to economic and human development in Africa.\n",
        "# For example, across Kenya, Rwanda, Tanzania, and Uganda only 9.1 million adults (or 13.9% of the adult population)\n",
        " #have access to or use a commercial bank account.\n",
        "# Traditionally, access to bank accounts has been regarded as an indicator of financial inclusion. \n",
        "\n",
        "# Despite the proliferation of mobile money in Africa and the growth of innovative fintech solutions, \n",
        "# banks still play a pivotal role in facilitating access to financial services. \n",
        " # their credit-worthiness and improve their access to other financial services.  \n",
        "# Therefore, access to bank accounts is an essential contributor to long-term economic growth.\n",
        "# So in this notebook/project i am going to\n",
        "#figure out how we can predict which individuals are most likely to have or use a bank account"
      ],
      "execution_count": null,
      "outputs": []
    },
    {
      "cell_type": "markdown",
      "metadata": {
        "id": "Hs4GgW9ixflR"
      },
      "source": [
        "1.4 Recording the Experimental Design"
      ]
    },
    {
      "cell_type": "code",
      "metadata": {
        "id": "i16zmET3xs3n"
      },
      "source": [
        "# For success of  this project i am going to do certain tasks\n",
        "#Find and deal with outliers, anomalies, and missing data within the dataset\n",
        "# Conduct Exploratory Data Analysis\n",
        "# Univariate, Bivariate and Multivariate analysis\n",
        "# Create Visualizations\n",
        "# Apply Reduction techniques \n",
        "# Create a Mutiple Regression model for predictions\n",
        "# Challenge my  solution by providing insights on improvements can be done"
      ],
      "execution_count": null,
      "outputs": []
    },
    {
      "cell_type": "markdown",
      "metadata": {
        "id": "nrSaET2Fxxe2"
      },
      "source": [
        "1.5Data Relevance"
      ]
    },
    {
      "cell_type": "code",
      "metadata": {
        "id": "QM_0HsHbx6ZL"
      },
      "source": [
        "# The data provided fits the context of this project\n",
        "# It contains crucial variables that can be used for  prediction on which individuals are most likely to have or use a bank account\n",
        "# The main dataset contains demographic information and what financial services are used by individuals across 4 countries namely Kenya, Rwanda, Tanzania, and Uganda .\n",
        "# This data was extracted from various Finscope surveys ranging from 2016 to 2018, and more information about these surveys can be found here:\n",
        "# FinAccess Kenya 2018: https://fsdkenya.org/publication/finaccess2019/\n",
        "# Finscope Rwanda 2016: http://www.statistics.gov.rw/publication/finscope-rwanda-2016\n",
        "# Finscope Tanzania 2017:  http://www.fsdt.or.tz/finscope/\n",
        "# Finscope Uganda 2018: http://fsduganda.or.ug/finscope-2018-survey-report/ \n",
        "# Dataset Files provided are two\n",
        "\n",
        "                       # Variable Definitions: http://bit.ly/VariableDefinitions \n",
        "                       # Dataset: http://bit.ly/FinancialDataset"
      ],
      "execution_count": null,
      "outputs": []
    },
    {
      "cell_type": "markdown",
      "metadata": {
        "id": "wYvTICO5yD3y"
      },
      "source": [
        "#  2.Reading the dataset"
      ]
    },
    {
      "cell_type": "markdown",
      "metadata": {
        "id": "fAGI59PhyKjS"
      },
      "source": [
        "2.1 Importing libraries to be used in this project/notebook"
      ]
    },
    {
      "cell_type": "code",
      "metadata": {
        "id": "9yXmjaWSyPn9",
        "outputId": "02c6c89e-cf83-47ec-8c29-4845b4bbca8e",
        "colab": {
          "base_uri": "https://localhost:8080/",
          "height": 72
        }
      },
      "source": [
        "# Importing libraries we will use for our analysis\n",
        "\n",
        "import pandas as pd\n",
        "\n",
        "import numpy as np\n",
        "\n",
        "import seaborn as sns\n",
        "\n",
        "import matplotlib.pyplot as plt\n",
        "\n",
        "%matplotlib inline\n",
        "\n",
        "import sklearn as sk\n",
        "\n",
        "import pandas_profiling as pp\n",
        "\n",
        "from sklearn import model_selection\n",
        "\n",
        "from sklearn.metrics import r2_score\n",
        "\n",
        "from sklearn.model_selection import train_test_split\n",
        "\n",
        "import statsmodels.api as sm\n",
        "\n",
        "from sklearn.metrics import confusion_matrix\n",
        "\n",
        "from sklearn.metrics import accuracy_score\n",
        "\n",
        "from sklearn.linear_model import LogisticRegression\n",
        "\n",
        "from sklearn.discriminant_analysis import LinearDiscriminantAnalysis"
      ],
      "execution_count": null,
      "outputs": [
        {
          "output_type": "stream",
          "text": [
            "/usr/local/lib/python3.6/dist-packages/statsmodels/tools/_testing.py:19: FutureWarning: pandas.util.testing is deprecated. Use the functions in the public API at pandas.testing instead.\n",
            "  import pandas.util.testing as tm\n"
          ],
          "name": "stderr"
        }
      ]
    },
    {
      "cell_type": "markdown",
      "metadata": {
        "id": "y4zfSCrByrBh"
      },
      "source": [
        "2.2 Loading the dataset"
      ]
    },
    {
      "cell_type": "code",
      "metadata": {
        "id": "H5popU68yvt0"
      },
      "source": [
        "# Loading the dataset\n",
        "\n",
        "\n",
        "Finance = pd.read_csv(\"http://bit.ly/FinancialDataset\")"
      ],
      "execution_count": null,
      "outputs": []
    },
    {
      "cell_type": "markdown",
      "metadata": {
        "id": "pMgf6-Jyy1Qj"
      },
      "source": [
        "2.3 Viewing the dataset"
      ]
    },
    {
      "cell_type": "code",
      "metadata": {
        "id": "I8NCM-twy4cw",
        "outputId": "46769538-65a6-4411-96bc-ce913dfd021f",
        "colab": {
          "base_uri": "https://localhost:8080/",
          "height": 409
        }
      },
      "source": [
        "# viewing the first 6 entries in the dataset\n",
        "\n",
        "Finance.head(6)"
      ],
      "execution_count": null,
      "outputs": [
        {
          "output_type": "execute_result",
          "data": {
            "text/html": [
              "<div>\n",
              "<style scoped>\n",
              "    .dataframe tbody tr th:only-of-type {\n",
              "        vertical-align: middle;\n",
              "    }\n",
              "\n",
              "    .dataframe tbody tr th {\n",
              "        vertical-align: top;\n",
              "    }\n",
              "\n",
              "    .dataframe thead th {\n",
              "        text-align: right;\n",
              "    }\n",
              "</style>\n",
              "<table border=\"1\" class=\"dataframe\">\n",
              "  <thead>\n",
              "    <tr style=\"text-align: right;\">\n",
              "      <th></th>\n",
              "      <th>country</th>\n",
              "      <th>year</th>\n",
              "      <th>uniqueid</th>\n",
              "      <th>Has a Bank account</th>\n",
              "      <th>Type of Location</th>\n",
              "      <th>Cell Phone Access</th>\n",
              "      <th>household_size</th>\n",
              "      <th>Respondent Age</th>\n",
              "      <th>gender_of_respondent</th>\n",
              "      <th>The relathip with head</th>\n",
              "      <th>marital_status</th>\n",
              "      <th>Level of Educuation</th>\n",
              "      <th>Type of Job</th>\n",
              "    </tr>\n",
              "  </thead>\n",
              "  <tbody>\n",
              "    <tr>\n",
              "      <th>0</th>\n",
              "      <td>Kenya</td>\n",
              "      <td>2018</td>\n",
              "      <td>uniqueid_1</td>\n",
              "      <td>Yes</td>\n",
              "      <td>Rural</td>\n",
              "      <td>Yes</td>\n",
              "      <td>3.0</td>\n",
              "      <td>24.0</td>\n",
              "      <td>Female</td>\n",
              "      <td>Spouse</td>\n",
              "      <td>Married/Living together</td>\n",
              "      <td>Secondary education</td>\n",
              "      <td>Self employed</td>\n",
              "    </tr>\n",
              "    <tr>\n",
              "      <th>1</th>\n",
              "      <td>Kenya</td>\n",
              "      <td>2018</td>\n",
              "      <td>uniqueid_2</td>\n",
              "      <td>No</td>\n",
              "      <td>Rural</td>\n",
              "      <td>No</td>\n",
              "      <td>5.0</td>\n",
              "      <td>70.0</td>\n",
              "      <td>Female</td>\n",
              "      <td>Head of Household</td>\n",
              "      <td>Widowed</td>\n",
              "      <td>No formal education</td>\n",
              "      <td>Government Dependent</td>\n",
              "    </tr>\n",
              "    <tr>\n",
              "      <th>2</th>\n",
              "      <td>Kenya</td>\n",
              "      <td>2018</td>\n",
              "      <td>uniqueid_3</td>\n",
              "      <td>Yes</td>\n",
              "      <td>Urban</td>\n",
              "      <td>Yes</td>\n",
              "      <td>5.0</td>\n",
              "      <td>26.0</td>\n",
              "      <td>Male</td>\n",
              "      <td>Other relative</td>\n",
              "      <td>Single/Never Married</td>\n",
              "      <td>Vocational/Specialised training</td>\n",
              "      <td>Self employed</td>\n",
              "    </tr>\n",
              "    <tr>\n",
              "      <th>3</th>\n",
              "      <td>Kenya</td>\n",
              "      <td>2018</td>\n",
              "      <td>uniqueid_4</td>\n",
              "      <td>No</td>\n",
              "      <td>Rural</td>\n",
              "      <td>Yes</td>\n",
              "      <td>5.0</td>\n",
              "      <td>34.0</td>\n",
              "      <td>Female</td>\n",
              "      <td>Head of Household</td>\n",
              "      <td>Married/Living together</td>\n",
              "      <td>Primary education</td>\n",
              "      <td>Formally employed Private</td>\n",
              "    </tr>\n",
              "    <tr>\n",
              "      <th>4</th>\n",
              "      <td>Kenya</td>\n",
              "      <td>2018</td>\n",
              "      <td>uniqueid_5</td>\n",
              "      <td>No</td>\n",
              "      <td>Urban</td>\n",
              "      <td>No</td>\n",
              "      <td>8.0</td>\n",
              "      <td>26.0</td>\n",
              "      <td>Male</td>\n",
              "      <td>Child</td>\n",
              "      <td>Single/Never Married</td>\n",
              "      <td>Primary education</td>\n",
              "      <td>Informally employed</td>\n",
              "    </tr>\n",
              "    <tr>\n",
              "      <th>5</th>\n",
              "      <td>Kenya</td>\n",
              "      <td>2018</td>\n",
              "      <td>uniqueid_6</td>\n",
              "      <td>No</td>\n",
              "      <td>Rural</td>\n",
              "      <td>No</td>\n",
              "      <td>7.0</td>\n",
              "      <td>26.0</td>\n",
              "      <td>Female</td>\n",
              "      <td>Spouse</td>\n",
              "      <td>Married/Living together</td>\n",
              "      <td>Primary education</td>\n",
              "      <td>Informally employed</td>\n",
              "    </tr>\n",
              "  </tbody>\n",
              "</table>\n",
              "</div>"
            ],
            "text/plain": [
              "  country  year  ...              Level of Educuation                Type of Job\n",
              "0   Kenya  2018  ...              Secondary education              Self employed\n",
              "1   Kenya  2018  ...              No formal education       Government Dependent\n",
              "2   Kenya  2018  ...  Vocational/Specialised training              Self employed\n",
              "3   Kenya  2018  ...                Primary education  Formally employed Private\n",
              "4   Kenya  2018  ...                Primary education        Informally employed\n",
              "5   Kenya  2018  ...                Primary education        Informally employed\n",
              "\n",
              "[6 rows x 13 columns]"
            ]
          },
          "metadata": {
            "tags": []
          },
          "execution_count": 93
        }
      ]
    },
    {
      "cell_type": "code",
      "metadata": {
        "id": "BNP0EAL5y91A",
        "outputId": "36eba07c-9fed-4a7b-9e5c-a2b6227344bd",
        "colab": {
          "base_uri": "https://localhost:8080/",
          "height": 391
        }
      },
      "source": [
        "# # viewing the last 6 entries in the dataset\n",
        "\n",
        "Finance.tail(6)"
      ],
      "execution_count": null,
      "outputs": [
        {
          "output_type": "execute_result",
          "data": {
            "text/html": [
              "<div>\n",
              "<style scoped>\n",
              "    .dataframe tbody tr th:only-of-type {\n",
              "        vertical-align: middle;\n",
              "    }\n",
              "\n",
              "    .dataframe tbody tr th {\n",
              "        vertical-align: top;\n",
              "    }\n",
              "\n",
              "    .dataframe thead th {\n",
              "        text-align: right;\n",
              "    }\n",
              "</style>\n",
              "<table border=\"1\" class=\"dataframe\">\n",
              "  <thead>\n",
              "    <tr style=\"text-align: right;\">\n",
              "      <th></th>\n",
              "      <th>country</th>\n",
              "      <th>year</th>\n",
              "      <th>uniqueid</th>\n",
              "      <th>Has a Bank account</th>\n",
              "      <th>Type of Location</th>\n",
              "      <th>Cell Phone Access</th>\n",
              "      <th>household_size</th>\n",
              "      <th>Respondent Age</th>\n",
              "      <th>gender_of_respondent</th>\n",
              "      <th>The relathip with head</th>\n",
              "      <th>marital_status</th>\n",
              "      <th>Level of Educuation</th>\n",
              "      <th>Type of Job</th>\n",
              "    </tr>\n",
              "  </thead>\n",
              "  <tbody>\n",
              "    <tr>\n",
              "      <th>23518</th>\n",
              "      <td>Uganda</td>\n",
              "      <td>2018</td>\n",
              "      <td>uniqueid_2111</td>\n",
              "      <td>No</td>\n",
              "      <td>Rural</td>\n",
              "      <td>Yes</td>\n",
              "      <td>NaN</td>\n",
              "      <td>20.0</td>\n",
              "      <td>Female</td>\n",
              "      <td>Child</td>\n",
              "      <td>Single/Never Married</td>\n",
              "      <td>Primary education</td>\n",
              "      <td>No Income</td>\n",
              "    </tr>\n",
              "    <tr>\n",
              "      <th>23519</th>\n",
              "      <td>Uganda</td>\n",
              "      <td>2018</td>\n",
              "      <td>uniqueid_2113</td>\n",
              "      <td>No</td>\n",
              "      <td>Rural</td>\n",
              "      <td>Yes</td>\n",
              "      <td>4.0</td>\n",
              "      <td>48.0</td>\n",
              "      <td>Female</td>\n",
              "      <td>Head of Household</td>\n",
              "      <td>Divorced/Seperated</td>\n",
              "      <td>No formal education</td>\n",
              "      <td>Other Income</td>\n",
              "    </tr>\n",
              "    <tr>\n",
              "      <th>23520</th>\n",
              "      <td>Uganda</td>\n",
              "      <td>2018</td>\n",
              "      <td>uniqueid_2114</td>\n",
              "      <td>No</td>\n",
              "      <td>Rural</td>\n",
              "      <td>Yes</td>\n",
              "      <td>2.0</td>\n",
              "      <td>27.0</td>\n",
              "      <td>Female</td>\n",
              "      <td>Head of Household</td>\n",
              "      <td>Single/Never Married</td>\n",
              "      <td>Secondary education</td>\n",
              "      <td>Other Income</td>\n",
              "    </tr>\n",
              "    <tr>\n",
              "      <th>23521</th>\n",
              "      <td>Uganda</td>\n",
              "      <td>2018</td>\n",
              "      <td>uniqueid_2115</td>\n",
              "      <td>No</td>\n",
              "      <td>Rural</td>\n",
              "      <td>Yes</td>\n",
              "      <td>5.0</td>\n",
              "      <td>27.0</td>\n",
              "      <td>Female</td>\n",
              "      <td>Parent</td>\n",
              "      <td>Widowed</td>\n",
              "      <td>Primary education</td>\n",
              "      <td>Other Income</td>\n",
              "    </tr>\n",
              "    <tr>\n",
              "      <th>23522</th>\n",
              "      <td>Uganda</td>\n",
              "      <td>2018</td>\n",
              "      <td>uniqueid_2116</td>\n",
              "      <td>No</td>\n",
              "      <td>Urban</td>\n",
              "      <td>Yes</td>\n",
              "      <td>7.0</td>\n",
              "      <td>30.0</td>\n",
              "      <td>Female</td>\n",
              "      <td>Parent</td>\n",
              "      <td>Divorced/Seperated</td>\n",
              "      <td>Secondary education</td>\n",
              "      <td>Self employed</td>\n",
              "    </tr>\n",
              "    <tr>\n",
              "      <th>23523</th>\n",
              "      <td>Uganda</td>\n",
              "      <td>2018</td>\n",
              "      <td>uniqueid_2117</td>\n",
              "      <td>No</td>\n",
              "      <td>Rural</td>\n",
              "      <td>Yes</td>\n",
              "      <td>10.0</td>\n",
              "      <td>20.0</td>\n",
              "      <td>Male</td>\n",
              "      <td>Child</td>\n",
              "      <td>Single/Never Married</td>\n",
              "      <td>Secondary education</td>\n",
              "      <td>No Income</td>\n",
              "    </tr>\n",
              "  </tbody>\n",
              "</table>\n",
              "</div>"
            ],
            "text/plain": [
              "      country  year  ...  Level of Educuation    Type of Job\n",
              "23518  Uganda  2018  ...    Primary education      No Income\n",
              "23519  Uganda  2018  ...  No formal education   Other Income\n",
              "23520  Uganda  2018  ...  Secondary education   Other Income\n",
              "23521  Uganda  2018  ...    Primary education   Other Income\n",
              "23522  Uganda  2018  ...  Secondary education  Self employed\n",
              "23523  Uganda  2018  ...  Secondary education      No Income\n",
              "\n",
              "[6 rows x 13 columns]"
            ]
          },
          "metadata": {
            "tags": []
          },
          "execution_count": 94
        }
      ]
    },
    {
      "cell_type": "code",
      "metadata": {
        "id": "1PfCKwIvzAeA",
        "outputId": "34585b97-d88a-4e61-f812-686fa26b30af",
        "colab": {
          "base_uri": "https://localhost:8080/",
          "height": 260
        }
      },
      "source": [
        "# Checking whether each column has an appropriate datatype\n",
        "Finance.dtypes"
      ],
      "execution_count": null,
      "outputs": [
        {
          "output_type": "execute_result",
          "data": {
            "text/plain": [
              "country                    object\n",
              "year                        int64\n",
              "uniqueid                   object\n",
              "Has a Bank account         object\n",
              "Type of Location           object\n",
              "Cell Phone Access          object\n",
              "household_size            float64\n",
              "Respondent Age            float64\n",
              "gender_of_respondent       object\n",
              "The relathip with head     object\n",
              "marital_status             object\n",
              "Level of Educuation        object\n",
              "Type of Job                object\n",
              "dtype: object"
            ]
          },
          "metadata": {
            "tags": []
          },
          "execution_count": 89
        }
      ]
    },
    {
      "cell_type": "code",
      "metadata": {
        "id": "zSz2R8QTzDPR",
        "outputId": "cde47874-b226-46c0-bc78-0ba05f0762a6",
        "colab": {
          "base_uri": "https://localhost:8080/",
          "height": 35
        }
      },
      "source": [
        "# Determining the no. of records in our dataset\n",
        "#Finance.shape\n",
        "print('This dataset has ' + str(Finance.shape[0]) + ' rows and ' +  str(Finance.shape[1]) + ' columns' )"
      ],
      "execution_count": null,
      "outputs": [
        {
          "output_type": "stream",
          "text": [
            "This dataset has 23524 rows and 13 columns\n"
          ],
          "name": "stdout"
        }
      ]
    },
    {
      "cell_type": "code",
      "metadata": {
        "id": "x1nBayTCzhDg",
        "outputId": "b551d50c-3df1-4e3a-cb86-dc5971204d66",
        "colab": {
          "base_uri": "https://localhost:8080/",
          "height": 364
        }
      },
      "source": [
        "# checking the dataset information\n",
        "Finance.info()"
      ],
      "execution_count": null,
      "outputs": [
        {
          "output_type": "stream",
          "text": [
            "<class 'pandas.core.frame.DataFrame'>\n",
            "RangeIndex: 23524 entries, 0 to 23523\n",
            "Data columns (total 13 columns):\n",
            " #   Column                  Non-Null Count  Dtype  \n",
            "---  ------                  --------------  -----  \n",
            " 0   country                 23510 non-null  object \n",
            " 1   year                    23524 non-null  int64  \n",
            " 2   uniqueid                23524 non-null  object \n",
            " 3   Has a Bank account      23488 non-null  object \n",
            " 4   Type of Location        23509 non-null  object \n",
            " 5   Cell Phone Access       23513 non-null  object \n",
            " 6   household_size          23496 non-null  float64\n",
            " 7   Respondent Age          23490 non-null  float64\n",
            " 8   gender_of_respondent    23490 non-null  object \n",
            " 9   The relathip with head  23520 non-null  object \n",
            " 10  marital_status          23492 non-null  object \n",
            " 11  Level of Educuation     23495 non-null  object \n",
            " 12  Type of Job             23494 non-null  object \n",
            "dtypes: float64(2), int64(1), object(10)\n",
            "memory usage: 2.3+ MB\n"
          ],
          "name": "stdout"
        }
      ]
    },
    {
      "cell_type": "markdown",
      "metadata": {
        "id": "wmFhMSj51B7Q"
      },
      "source": [
        "# Tyding the datasset"
      ]
    },
    {
      "cell_type": "code",
      "metadata": {
        "id": "JH_MkODv1LXO",
        "outputId": "4b546a13-2e58-4186-947e-95996d6c7a02",
        "colab": {
          "base_uri": "https://localhost:8080/",
          "height": 104
        }
      },
      "source": [
        "# checking the column names\n",
        "# Renaming the columns: \n",
        "Finance.columns"
      ],
      "execution_count": null,
      "outputs": [
        {
          "output_type": "execute_result",
          "data": {
            "text/plain": [
              "Index(['country', 'year', 'uniqueid', 'Has a Bank account', 'Type of Location',\n",
              "       'Cell Phone Access', 'household_size', 'Respondent Age',\n",
              "       'gender_of_respondent', 'The relathip with head', 'marital_status',\n",
              "       'Level of Educuation', 'Type of Job'],\n",
              "      dtype='object')"
            ]
          },
          "metadata": {
            "tags": []
          },
          "execution_count": 97
        }
      ]
    },
    {
      "cell_type": "code",
      "metadata": {
        "id": "_2jXeVYS1OqE",
        "outputId": "db259b77-f445-4947-f6c0-635e51b90619",
        "colab": {
          "base_uri": "https://localhost:8080/",
          "height": 104
        }
      },
      "source": [
        "# Renaming 2 columns namely Level of Educuation and 'The relathip with head' which have typos\n",
        "Finance.rename(columns={'The relathip with head':'The relationship with head'}, inplace=True)\n",
        "Finance.rename(columns={'Level of Educuation':'Level of Education'}, inplace=True)\n",
        "#Checking columns to verify whether the 2 columns have been renamed\n",
        "print(Finance.columns)\n"
      ],
      "execution_count": null,
      "outputs": [
        {
          "output_type": "stream",
          "text": [
            "Index(['country', 'year', 'uniqueid', 'Has a Bank account', 'Type of Location',\n",
            "       'Cell Phone Access', 'household_size', 'Respondent Age',\n",
            "       'gender_of_respondent', 'The relationship with head', 'marital_status',\n",
            "       'Level of Education', 'Type of Job'],\n",
            "      dtype='object')\n"
          ],
          "name": "stdout"
        }
      ]
    },
    {
      "cell_type": "code",
      "metadata": {
        "id": "06KBRk0p1e4h"
      },
      "source": [
        "# Making all columns to be in upper case to make them uniform and removing spaces that exists in some columns\n",
        "\n",
        "Finance.columns = Finance.columns.str.upper().str.replace(\" \", \"_\")"
      ],
      "execution_count": null,
      "outputs": []
    },
    {
      "cell_type": "code",
      "metadata": {
        "id": "BP3mjOqU14mj",
        "outputId": "6cec6f55-fb40-4d7e-c4af-15fe66ef0058",
        "colab": {
          "base_uri": "https://localhost:8080/",
          "height": 104
        }
      },
      "source": [
        "#Checking columns to verify whether they are in uper case and spaces have been removed\n",
        "print(Finance.columns)"
      ],
      "execution_count": null,
      "outputs": [
        {
          "output_type": "stream",
          "text": [
            "Index(['COUNTRY', 'YEAR', 'UNIQUEID', 'HAS_A_BANK_ACCOUNT', 'TYPE_OF_LOCATION',\n",
            "       'CELL_PHONE_ACCESS', 'HOUSEHOLD_SIZE', 'RESPONDENT_AGE',\n",
            "       'GENDER_OF_RESPONDENT', 'THE_RELATIONSHIP_WITH_HEAD', 'MARITAL_STATUS',\n",
            "       'LEVEL_OF_EDUCATION', 'TYPE_OF_JOB'],\n",
            "      dtype='object')\n"
          ],
          "name": "stdout"
        }
      ]
    },
    {
      "cell_type": "code",
      "metadata": {
        "id": "5_VEoNFF3E75",
        "outputId": "ee067a8c-3ae1-419a-f210-5be75e0d62fe",
        "colab": {
          "base_uri": "https://localhost:8080/",
          "height": 260
        }
      },
      "source": [
        "# Identifying the Missing Data\n",
        "Finance.isnull().sum()"
      ],
      "execution_count": null,
      "outputs": [
        {
          "output_type": "execute_result",
          "data": {
            "text/plain": [
              "COUNTRY                       14\n",
              "YEAR                           0\n",
              "UNIQUEID                       0\n",
              "HAS_A_BANK_ACCOUNT            36\n",
              "TYPE_OF_LOCATION              15\n",
              "CELL_PHONE_ACCESS             11\n",
              "HOUSEHOLD_SIZE                28\n",
              "RESPONDENT_AGE                34\n",
              "GENDER_OF_RESPONDENT          34\n",
              "THE_RELATIONSHIP_WITH_HEAD     4\n",
              "MARITAL_STATUS                32\n",
              "LEVEL_OF_EDUCATION            29\n",
              "TYPE_OF_JOB                   30\n",
              "dtype: int64"
            ]
          },
          "metadata": {
            "tags": []
          },
          "execution_count": 101
        }
      ]
    },
    {
      "cell_type": "code",
      "metadata": {
        "id": "JSEELR5m3Q2q"
      },
      "source": [
        "# Dropping all null values in the dataset\n",
        "\n",
        "Finance.dropna(inplace = True)"
      ],
      "execution_count": null,
      "outputs": []
    },
    {
      "cell_type": "code",
      "metadata": {
        "id": "aRKh3RAz3Xbq",
        "outputId": "35c64d31-9868-4503-fcef-396cd5a24d8e",
        "colab": {
          "base_uri": "https://localhost:8080/",
          "height": 243
        }
      },
      "source": [
        "# confriming there are no missing values\n",
        "\n",
        "Finance.isnull().sum()"
      ],
      "execution_count": null,
      "outputs": [
        {
          "output_type": "execute_result",
          "data": {
            "text/plain": [
              "COUNTRY                       0\n",
              "YEAR                          0\n",
              "HAS_A_BANK_ACCOUNT            0\n",
              "TYPE_OF_LOCATION              0\n",
              "CELL_PHONE_ACCESS             0\n",
              "HOUSEHOLD_SIZE                0\n",
              "RESPONDENT_AGE                0\n",
              "GENDER_OF_RESPONDENT          0\n",
              "THE_RELATIONSHIP_WITH_HEAD    0\n",
              "MARITAL_STATUS                0\n",
              "LEVEL_OF_EDUCATION            0\n",
              "TYPE_OF_JOB                   0\n",
              "dtype: int64"
            ]
          },
          "metadata": {
            "tags": []
          },
          "execution_count": 156
        }
      ]
    },
    {
      "cell_type": "code",
      "metadata": {
        "id": "yEng47OM3hYp",
        "outputId": "8836f244-e9de-4e46-dad0-cd82853bd3bc",
        "colab": {
          "base_uri": "https://localhost:8080/",
          "height": 35
        }
      },
      "source": [
        "# checking for duplicates\n",
        "Finance.duplicated().any()"
      ],
      "execution_count": null,
      "outputs": [
        {
          "output_type": "execute_result",
          "data": {
            "text/plain": [
              "False"
            ]
          },
          "metadata": {
            "tags": []
          },
          "execution_count": 103
        }
      ]
    },
    {
      "cell_type": "code",
      "metadata": {
        "id": "fxxp2sqB4eDc"
      },
      "source": [
        "# There are no duplicates"
      ],
      "execution_count": null,
      "outputs": []
    },
    {
      "cell_type": "code",
      "metadata": {
        "id": "idBd_DEr48Gz",
        "outputId": "b7439de6-1c4f-4350-eb21-32879bf6b243",
        "colab": {
          "base_uri": "https://localhost:8080/",
          "height": 35
        }
      },
      "source": [
        "# Checking for unique years when the study was carried out\n",
        "Finance.YEAR.unique()"
      ],
      "execution_count": null,
      "outputs": [
        {
          "output_type": "execute_result",
          "data": {
            "text/plain": [
              "array([2018, 2029, 2056, 2016, 2039, 2017])"
            ]
          },
          "metadata": {
            "tags": []
          },
          "execution_count": 104
        }
      ]
    },
    {
      "cell_type": "code",
      "metadata": {
        "id": "JDX4FXLE5T_V",
        "outputId": "773c0be8-5649-465f-9e86-8c3421a9448c",
        "colab": {
          "base_uri": "https://localhost:8080/",
          "height": 35
        }
      },
      "source": [
        "# an anomaly is detected since this project is based on data provided in the years 2016,2017,2018 yet\n",
        " #the dataset contains data  of 2029,2056 and 2039 as well so to solve this i will drop the rows with this incorrect data\n",
        "IncorrectYearData = Finance[Finance['YEAR'] > 2018].index\n",
        "\n",
        "Finance.drop(IncorrectYearData, inplace = True)\n",
        "#Checking whether the anomaly has been rectified\n",
        "\n",
        "Finance.YEAR.unique()"
      ],
      "execution_count": null,
      "outputs": [
        {
          "output_type": "execute_result",
          "data": {
            "text/plain": [
              "array([2018, 2016, 2017])"
            ]
          },
          "metadata": {
            "tags": []
          },
          "execution_count": 106
        }
      ]
    },
    {
      "cell_type": "code",
      "metadata": {
        "id": "B8sbuXOsh6v_",
        "outputId": "afd8dfee-309c-4ac2-8b2b-1adeb1eb3c80",
        "colab": {
          "base_uri": "https://localhost:8080/",
          "height": 275
        }
      },
      "source": [
        "#Checking for outliers\n",
        "plt.figure(dpi = 70)\n",
        "Finance.boxplot(['HOUSEHOLD_SIZE'])\n",
        "plt.title(\"A boxplot showing Number of people living in one house\", color = 'RED')\n",
        "plt.show()\n",
        "\n"
      ],
      "execution_count": null,
      "outputs": [
        {
          "output_type": "display_data",
          "data": {
            "image/png": "[encoded data removed]",
            "text/plain": [
              "<Figure size 420x280 with 1 Axes>"
            ]
          },
          "metadata": {
            "tags": []
          }
        }
      ]
    },
    {
      "cell_type": "code",
      "metadata": {
        "id": "HMBF8eDWBg4c"
      },
      "source": [
        "#There are outliers but i decided to keep them as i felt removing them would greatly aalter my dataset"
      ],
      "execution_count": null,
      "outputs": []
    },
    {
      "cell_type": "code",
      "metadata": {
        "id": "UaneMO-KqTes",
        "outputId": "fa9acaf9-d4b6-4638-9c5a-b16122c4f910",
        "colab": {
          "base_uri": "https://localhost:8080/",
          "height": 275
        }
      },
      "source": [
        "plt.figure(dpi = 70)\n",
        "Finance.boxplot(['RESPONDENT_AGE'])\n",
        "plt.title(\"A boxplot showing Number of people living in one house\", color = 'RED')\n",
        "plt.show()\n"
      ],
      "execution_count": null,
      "outputs": [
        {
          "output_type": "display_data",
          "data": {
            "image/png": "[encoded data removed]",
            "text/plain": [
              "<Figure size 420x280 with 1 Axes>"
            ]
          },
          "metadata": {
            "tags": []
          }
        }
      ]
    },
    {
      "cell_type": "code",
      "metadata": {
        "id": "NjDEFRi1B6tY"
      },
      "source": [
        "#There are outliers but i decided to keep them as i felt removing them would greatly aalter my dataset"
      ],
      "execution_count": null,
      "outputs": []
    },
    {
      "cell_type": "code",
      "metadata": {
        "id": "wAToXP8X31vs"
      },
      "source": [
        "# Dropping columns we do not need for this analysis\n",
        "# \n",
        "\n",
        "Finance = Finance.drop(['UNIQUEID'], axis = 1)"
      ],
      "execution_count": null,
      "outputs": []
    },
    {
      "cell_type": "markdown",
      "metadata": {
        "id": "C-etCqkC7lVG"
      },
      "source": [
        "# Exploratory Data Analysis"
      ]
    },
    {
      "cell_type": "markdown",
      "metadata": {
        "id": "KW0whgvG9Tqx"
      },
      "source": [
        "Univariate analysis"
      ]
    },
    {
      "cell_type": "code",
      "metadata": {
        "id": "EGiIRQeE9Yfz"
      },
      "source": [
        "#There are a couple of ways to conduct univariate analysis, such as;\n",
        "    #Frequency distribution\n",
        "    #Central tendency \n",
        "    #Dispersion"
      ],
      "execution_count": null,
      "outputs": []
    },
    {
      "cell_type": "markdown",
      "metadata": {
        "id": "m1bqlqPQ-44o"
      },
      "source": [
        "Frequency distribution"
      ]
    },
    {
      "cell_type": "code",
      "metadata": {
        "id": "4cILQEGZ_AYx",
        "outputId": "f82393d2-e962-47bd-dba4-89e0d4276f87",
        "colab": {
          "base_uri": "https://localhost:8080/",
          "height": 141
        }
      },
      "source": [
        "pd.crosstab(index=Finance['CELL_PHONE_ACCESS'], columns=Finance['TYPE_OF_LOCATION'])"
      ],
      "execution_count": null,
      "outputs": [
        {
          "output_type": "execute_result",
          "data": {
            "text/html": [
              "<div>\n",
              "<style scoped>\n",
              "    .dataframe tbody tr th:only-of-type {\n",
              "        vertical-align: middle;\n",
              "    }\n",
              "\n",
              "    .dataframe tbody tr th {\n",
              "        vertical-align: top;\n",
              "    }\n",
              "\n",
              "    .dataframe thead th {\n",
              "        text-align: right;\n",
              "    }\n",
              "</style>\n",
              "<table border=\"1\" class=\"dataframe\">\n",
              "  <thead>\n",
              "    <tr style=\"text-align: right;\">\n",
              "      <th>TYPE_OF_LOCATION</th>\n",
              "      <th>Rural</th>\n",
              "      <th>Urban</th>\n",
              "    </tr>\n",
              "    <tr>\n",
              "      <th>CELL_PHONE_ACCESS</th>\n",
              "      <th></th>\n",
              "      <th></th>\n",
              "    </tr>\n",
              "  </thead>\n",
              "  <tbody>\n",
              "    <tr>\n",
              "      <th>No</th>\n",
              "      <td>3256</td>\n",
              "      <td>2753</td>\n",
              "    </tr>\n",
              "    <tr>\n",
              "      <th>Yes</th>\n",
              "      <td>11007</td>\n",
              "      <td>6324</td>\n",
              "    </tr>\n",
              "  </tbody>\n",
              "</table>\n",
              "</div>"
            ],
            "text/plain": [
              "TYPE_OF_LOCATION   Rural  Urban\n",
              "CELL_PHONE_ACCESS              \n",
              "No                  3256   2753\n",
              "Yes                11007   6324"
            ]
          },
          "metadata": {
            "tags": []
          },
          "execution_count": 23
        }
      ]
    },
    {
      "cell_type": "code",
      "metadata": {
        "id": "fYjyYRLV_fC3"
      },
      "source": [
        "#There were more  interviewees with cell phone access in the rural area as compared to the urban area"
      ],
      "execution_count": null,
      "outputs": []
    },
    {
      "cell_type": "code",
      "metadata": {
        "id": "kwk3RObdBQOt",
        "outputId": "0cd7b8fc-ff40-4c93-b611-c7e90fd02eeb",
        "colab": {
          "base_uri": "https://localhost:8080/",
          "height": 141
        }
      },
      "source": [
        "pd.crosstab(index=Finance['GENDER_OF_RESPONDENT'], columns='count') "
      ],
      "execution_count": null,
      "outputs": [
        {
          "output_type": "execute_result",
          "data": {
            "text/html": [
              "<div>\n",
              "<style scoped>\n",
              "    .dataframe tbody tr th:only-of-type {\n",
              "        vertical-align: middle;\n",
              "    }\n",
              "\n",
              "    .dataframe tbody tr th {\n",
              "        vertical-align: top;\n",
              "    }\n",
              "\n",
              "    .dataframe thead th {\n",
              "        text-align: right;\n",
              "    }\n",
              "</style>\n",
              "<table border=\"1\" class=\"dataframe\">\n",
              "  <thead>\n",
              "    <tr style=\"text-align: right;\">\n",
              "      <th>col_0</th>\n",
              "      <th>count</th>\n",
              "    </tr>\n",
              "    <tr>\n",
              "      <th>GENDER_OF_RESPONDENT</th>\n",
              "      <th></th>\n",
              "    </tr>\n",
              "  </thead>\n",
              "  <tbody>\n",
              "    <tr>\n",
              "      <th>Female</th>\n",
              "      <td>13766</td>\n",
              "    </tr>\n",
              "    <tr>\n",
              "      <th>Male</th>\n",
              "      <td>9574</td>\n",
              "    </tr>\n",
              "  </tbody>\n",
              "</table>\n",
              "</div>"
            ],
            "text/plain": [
              "col_0                 count\n",
              "GENDER_OF_RESPONDENT       \n",
              "Female                13766\n",
              "Male                   9574"
            ]
          },
          "metadata": {
            "tags": []
          },
          "execution_count": 24
        }
      ]
    },
    {
      "cell_type": "code",
      "metadata": {
        "id": "yOcy34IEBcDk"
      },
      "source": [
        "#There were more  female respondents than male"
      ],
      "execution_count": null,
      "outputs": []
    },
    {
      "cell_type": "code",
      "metadata": {
        "id": "3Jt_yNCvB5Lg",
        "outputId": "c34e8d0d-9a6d-4298-c880-7cec2b0b9311",
        "colab": {
          "base_uri": "https://localhost:8080/",
          "height": 263
        }
      },
      "source": [
        "# Frequency table of interviewee relationship_with_head of the house categories and their value counts\n",
        "\n",
        "pd.crosstab(index = Finance['THE_RELATIONSHIP_WITH_HEAD'], columns = 'count')\n"
      ],
      "execution_count": null,
      "outputs": [
        {
          "output_type": "execute_result",
          "data": {
            "text/html": [
              "<div>\n",
              "<style scoped>\n",
              "    .dataframe tbody tr th:only-of-type {\n",
              "        vertical-align: middle;\n",
              "    }\n",
              "\n",
              "    .dataframe tbody tr th {\n",
              "        vertical-align: top;\n",
              "    }\n",
              "\n",
              "    .dataframe thead th {\n",
              "        text-align: right;\n",
              "    }\n",
              "</style>\n",
              "<table border=\"1\" class=\"dataframe\">\n",
              "  <thead>\n",
              "    <tr style=\"text-align: right;\">\n",
              "      <th>col_0</th>\n",
              "      <th>count</th>\n",
              "    </tr>\n",
              "    <tr>\n",
              "      <th>THE_RELATIONSHIP_WITH_HEAD</th>\n",
              "      <th></th>\n",
              "    </tr>\n",
              "  </thead>\n",
              "  <tbody>\n",
              "    <tr>\n",
              "      <th>Child</th>\n",
              "      <td>2221</td>\n",
              "    </tr>\n",
              "    <tr>\n",
              "      <th>Head of Household</th>\n",
              "      <td>12729</td>\n",
              "    </tr>\n",
              "    <tr>\n",
              "      <th>Other non-relatives</th>\n",
              "      <td>189</td>\n",
              "    </tr>\n",
              "    <tr>\n",
              "      <th>Other relative</th>\n",
              "      <td>662</td>\n",
              "    </tr>\n",
              "    <tr>\n",
              "      <th>Parent</th>\n",
              "      <td>1069</td>\n",
              "    </tr>\n",
              "    <tr>\n",
              "      <th>Spouse</th>\n",
              "      <td>6470</td>\n",
              "    </tr>\n",
              "  </tbody>\n",
              "</table>\n",
              "</div>"
            ],
            "text/plain": [
              "col_0                       count\n",
              "THE_RELATIONSHIP_WITH_HEAD       \n",
              "Child                        2221\n",
              "Head of Household           12729\n",
              "Other non-relatives           189\n",
              "Other relative                662\n",
              "Parent                       1069\n",
              "Spouse                       6470"
            ]
          },
          "metadata": {
            "tags": []
          },
          "execution_count": 26
        }
      ]
    },
    {
      "cell_type": "code",
      "metadata": {
        "id": "MBzDp8_4CTUb"
      },
      "source": [
        "# Majority of the respondents were the head of the household followed by the spouse\n",
        "# while the least constituted other non-relatives."
      ],
      "execution_count": null,
      "outputs": []
    },
    {
      "cell_type": "code",
      "metadata": {
        "id": "df3ODLxbCZJI",
        "outputId": "1d3e588f-49a9-4aa0-b64a-3015cecca102",
        "colab": {
          "base_uri": "https://localhost:8080/",
          "height": 233
        }
      },
      "source": [
        "# Frequency table of interviewee martial status categories and their value counts\n",
        "\n",
        "pd.crosstab(index = Finance['MARITAL_STATUS'], columns = 'count')"
      ],
      "execution_count": null,
      "outputs": [
        {
          "output_type": "execute_result",
          "data": {
            "text/html": [
              "<div>\n",
              "<style scoped>\n",
              "    .dataframe tbody tr th:only-of-type {\n",
              "        vertical-align: middle;\n",
              "    }\n",
              "\n",
              "    .dataframe tbody tr th {\n",
              "        vertical-align: top;\n",
              "    }\n",
              "\n",
              "    .dataframe thead th {\n",
              "        text-align: right;\n",
              "    }\n",
              "</style>\n",
              "<table border=\"1\" class=\"dataframe\">\n",
              "  <thead>\n",
              "    <tr style=\"text-align: right;\">\n",
              "      <th>col_0</th>\n",
              "      <th>count</th>\n",
              "    </tr>\n",
              "    <tr>\n",
              "      <th>MARITAL_STATUS</th>\n",
              "      <th></th>\n",
              "    </tr>\n",
              "  </thead>\n",
              "  <tbody>\n",
              "    <tr>\n",
              "      <th>Divorced/Seperated</th>\n",
              "      <td>2049</td>\n",
              "    </tr>\n",
              "    <tr>\n",
              "      <th>Dont know</th>\n",
              "      <td>8</td>\n",
              "    </tr>\n",
              "    <tr>\n",
              "      <th>Married/Living together</th>\n",
              "      <td>10698</td>\n",
              "    </tr>\n",
              "    <tr>\n",
              "      <th>Single/Never Married</th>\n",
              "      <td>7902</td>\n",
              "    </tr>\n",
              "    <tr>\n",
              "      <th>Widowed</th>\n",
              "      <td>2683</td>\n",
              "    </tr>\n",
              "  </tbody>\n",
              "</table>\n",
              "</div>"
            ],
            "text/plain": [
              "col_0                    count\n",
              "MARITAL_STATUS                \n",
              "Divorced/Seperated        2049\n",
              "Dont know                    8\n",
              "Married/Living together  10698\n",
              "Single/Never Married      7902\n",
              "Widowed                   2683"
            ]
          },
          "metadata": {
            "tags": []
          },
          "execution_count": 28
        }
      ]
    },
    {
      "cell_type": "code",
      "metadata": {
        "id": "PVsbyjOKCvYr"
      },
      "source": [
        "# Majority of the respondents were married and living together with their spouses folowed by Single/Never married\n",
        "#  the least constituted of people who did not know their marital status."
      ],
      "execution_count": null,
      "outputs": []
    },
    {
      "cell_type": "markdown",
      "metadata": {
        "id": "LtbKRxYgC3Sy"
      },
      "source": [
        "Central tendency"
      ]
    },
    {
      "cell_type": "code",
      "metadata": {
        "id": "cBdiH_fXC6i2",
        "outputId": "5726bcf2-4191-4b03-ef18-5750339720bd",
        "colab": {
          "base_uri": "https://localhost:8080/",
          "height": 35
        }
      },
      "source": [
        "#Mean - This represents the sum of all values in a dataset divided by the total number of the values.\n",
        "# Mean of the RESPONDENT_AGE\n",
        "Finance.RESPONDENT_AGE.mean()"
      ],
      "execution_count": null,
      "outputs": [
        {
          "output_type": "execute_result",
          "data": {
            "text/plain": [
              "38.80706940874036"
            ]
          },
          "metadata": {
            "tags": []
          },
          "execution_count": 30
        }
      ]
    },
    {
      "cell_type": "code",
      "metadata": {
        "id": "MF1ecZV0Do_i"
      },
      "source": [
        "#Mean of the RESPONDENT_AGE  was 38.80706940874036"
      ],
      "execution_count": null,
      "outputs": []
    },
    {
      "cell_type": "code",
      "metadata": {
        "id": "rcoLKcWxD4Ie",
        "outputId": "7432ca01-1c7c-4d3c-c22d-597506ee19c2",
        "colab": {
          "base_uri": "https://localhost:8080/",
          "height": 52
        }
      },
      "source": [
        "#Mode - This represents the most frequently occurring value in a dataset\n",
        "# Mode of the RESPONDENT_AGE\n",
        "Finance.RESPONDENT_AGE.mode()"
      ],
      "execution_count": null,
      "outputs": [
        {
          "output_type": "execute_result",
          "data": {
            "text/plain": [
              "0    30.0\n",
              "dtype: float64"
            ]
          },
          "metadata": {
            "tags": []
          },
          "execution_count": 31
        }
      ]
    },
    {
      "cell_type": "code",
      "metadata": {
        "id": "eR-SGf4fEV3l"
      },
      "source": [
        "# Most occuring respondent age was 30."
      ],
      "execution_count": null,
      "outputs": []
    },
    {
      "cell_type": "code",
      "metadata": {
        "id": "Ens-dlU3EdMm",
        "outputId": "f23f34b0-a556-4bc5-db92-03c02aa72cca",
        "colab": {
          "base_uri": "https://localhost:8080/",
          "height": 35
        }
      },
      "source": [
        "#Median - This is the middle value in a dataset when it is arranged in ascending order.\n",
        "Finance.RESPONDENT_AGE.median()"
      ],
      "execution_count": null,
      "outputs": [
        {
          "output_type": "execute_result",
          "data": {
            "text/plain": [
              "35.0"
            ]
          },
          "metadata": {
            "tags": []
          },
          "execution_count": 32
        }
      ]
    },
    {
      "cell_type": "code",
      "metadata": {
        "id": "171em_1REqi2"
      },
      "source": [
        "#Median of the respondents age was 35"
      ],
      "execution_count": null,
      "outputs": []
    },
    {
      "cell_type": "markdown",
      "metadata": {
        "id": "jvACzN4WExOL"
      },
      "source": [
        "Dispersion"
      ]
    },
    {
      "cell_type": "code",
      "metadata": {
        "id": "AxfqyM66E5ur"
      },
      "source": [
        "#Dispersion or measure of dispersion tells us the variation of the data from one another and gives us a clear idea of the distribution of the data.\n",
        "\n",
        "#Common examples of dispersion measure are;\n",
        "\n",
        "#Variance\n",
        "#Standard deviation \n",
        "#Range\n",
        "#Quartile deviation"
      ],
      "execution_count": null,
      "outputs": []
    },
    {
      "cell_type": "code",
      "metadata": {
        "id": "4tpE8OEBFAWy"
      },
      "source": [
        "# RANGE\n",
        "# difference between lowest and highest value\n",
        "# find maximum value \n",
        "# find minimum value\n",
        "# range = max - min"
      ],
      "execution_count": null,
      "outputs": []
    },
    {
      "cell_type": "code",
      "metadata": {
        "id": "7V5zIiaUFSiF",
        "outputId": "4859f619-1209-495e-f4e7-0870231ef478",
        "colab": {
          "base_uri": "https://localhost:8080/",
          "height": 69
        }
      },
      "source": [
        "# Range of the respondent age\n",
        "\n",
        "ReAgeMax = Finance.RESPONDENT_AGE.max()\n",
        "print(ReAgeMax)\n",
        "\n",
        "ReAgeMin = Finance.RESPONDENT_AGE.min()\n",
        "print(ReAgeMin)\n",
        "\n",
        "RangeAge = ReAgeMax - ReAgeMin\n",
        "RangeAge"
      ],
      "execution_count": null,
      "outputs": [
        {
          "output_type": "stream",
          "text": [
            "100.0\n",
            "16.0\n"
          ],
          "name": "stdout"
        },
        {
          "output_type": "execute_result",
          "data": {
            "text/plain": [
              "84.0"
            ]
          },
          "metadata": {
            "tags": []
          },
          "execution_count": 34
        }
      ]
    },
    {
      "cell_type": "code",
      "metadata": {
        "id": "cd9h0cNcF_QK"
      },
      "source": [
        "#Highest age of respondent was 100 the lowest was 16 therefore the range is 84"
      ],
      "execution_count": null,
      "outputs": []
    },
    {
      "cell_type": "code",
      "metadata": {
        "id": "4XK66CUcGb8F"
      },
      "source": [
        "# QUANTILES\n",
        "\n",
        "# Quartiles are values that divide your data into quarters when data is sorted in an ascending order.\n",
        "\n",
        "# There are three quartile values. \n",
        "\n",
        "# Q1: First quartile is the 25 percentile. \n",
        "# Q2: Second quartile is the 50 percentile...also...median of the data\n",
        "# Q3: Third quartile is the 75 percentile. \n",
        "\n",
        "\n",
        "# THE INTERQUARTILE RANGE ...also ..IQR\n",
        "\n",
        "# IQR = Q3 -Q1"
      ],
      "execution_count": null,
      "outputs": []
    },
    {
      "cell_type": "code",
      "metadata": {
        "id": "2OZ63uyYGeT6",
        "outputId": "4bf654c0-0642-4146-dea4-a6bdd1b68860",
        "colab": {
          "base_uri": "https://localhost:8080/",
          "height": 87
        }
      },
      "source": [
        "# Quantiles of the Respondent age\n",
        "\n",
        "Finance[\"RESPONDENT_AGE\"].quantile([0.25,0.5,0.75])\n"
      ],
      "execution_count": null,
      "outputs": [
        {
          "output_type": "execute_result",
          "data": {
            "text/plain": [
              "0.25    26.0\n",
              "0.50    35.0\n",
              "0.75    49.0\n",
              "Name: RESPONDENT_AGE, dtype: float64"
            ]
          },
          "metadata": {
            "tags": []
          },
          "execution_count": 35
        }
      ]
    },
    {
      "cell_type": "code",
      "metadata": {
        "id": "Hc-ok6WSH-Vb"
      },
      "source": [
        "#IQR of age\n",
        "#Q3-Q1\n",
        "#49-26=23"
      ],
      "execution_count": null,
      "outputs": []
    },
    {
      "cell_type": "code",
      "metadata": {
        "id": "WezXD_obH_2L"
      },
      "source": [
        "# STANDARD DEVIATION\n",
        "\n",
        "# Average distance between each obseravtion from the mean. \n",
        "# I.e., how data is spread out from mean. \n",
        "# A low std dev indicates that the data points tend to be close to the mean of the data set, \n",
        "# A high std dev indicates that the data points are spread out over a wider range of values."
      ],
      "execution_count": null,
      "outputs": []
    },
    {
      "cell_type": "code",
      "metadata": {
        "id": "HllhGhjnIVLD",
        "outputId": "e3112ee7-6668-454f-edbd-15e9efea48f4",
        "colab": {
          "base_uri": "https://localhost:8080/",
          "height": 35
        }
      },
      "source": [
        "# Standard Deviation of the respondent age\n",
        "\n",
        "Finance.RESPONDENT_AGE.std()\n"
      ],
      "execution_count": null,
      "outputs": [
        {
          "output_type": "execute_result",
          "data": {
            "text/plain": [
              "16.519904564514412"
            ]
          },
          "metadata": {
            "tags": []
          },
          "execution_count": 37
        }
      ]
    },
    {
      "cell_type": "code",
      "metadata": {
        "id": "n7Yx9VuEIq5N"
      },
      "source": [
        "# 16.52 is a high std dev hence the data points are not close to the mean (38.81) of the data set implying data points are widely spread out"
      ],
      "execution_count": null,
      "outputs": []
    },
    {
      "cell_type": "code",
      "metadata": {
        "id": "lyIRIhAbJZ2m"
      },
      "source": [
        "# VARIANCE \n",
        "\n",
        "# square of average distance between each observation and mean. \n",
        "# I.e. square of standard deviation. \n",
        "# It is a measure of how dispersed or spread out the set is, \n",
        "\n",
        "# If a data set has a variance of zero, then every member of it is the same. \n",
        "# If the variance is high, especially as a ratio to the mean, then the data have some very large dis-similarities amongst its members. "
      ],
      "execution_count": null,
      "outputs": []
    },
    {
      "cell_type": "code",
      "metadata": {
        "id": "qatJECy9J6lT",
        "outputId": "57dbb4ac-0c4f-4e27-a8f2-908c3a2126d3",
        "colab": {
          "base_uri": "https://localhost:8080/",
          "height": 35
        }
      },
      "source": [
        "# Variance of the respondent_age\n",
        "\n",
        "Finance.RESPONDENT_AGE.var()\n"
      ],
      "execution_count": null,
      "outputs": [
        {
          "output_type": "execute_result",
          "data": {
            "text/plain": [
              "272.90724682066417"
            ]
          },
          "metadata": {
            "tags": []
          },
          "execution_count": 38
        }
      ]
    },
    {
      "cell_type": "code",
      "metadata": {
        "id": "ZWekeRZIJdJZ"
      },
      "source": [
        "# var of 272.91 is very large compared to the mean of 38.81. This indicates that the age distribution have some very large dis-similarities."
      ],
      "execution_count": null,
      "outputs": []
    },
    {
      "cell_type": "code",
      "metadata": {
        "id": "rSYp1Ij2KVDA"
      },
      "source": [
        "# SKEWNESS \n",
        "\n",
        "# A measure of the asymmetry of the probability distribution of a real-valued random variable about its mean. \n",
        "# In a perfect normal distribution, the tails on either side of the curve are exact mirror images of each other.\n",
        "# A negative value means the distribution is negatively skewed.....or...skewed to the left\n",
        "# A positive value means the distribution is positively skewed.....or...skewed to the right\n"
      ],
      "execution_count": null,
      "outputs": []
    },
    {
      "cell_type": "code",
      "metadata": {
        "id": "Yxe41yAIKb3r",
        "outputId": "3cb90eeb-e88c-4e4e-c167-48c1f1d11b35",
        "colab": {
          "base_uri": "https://localhost:8080/",
          "height": 35
        }
      },
      "source": [
        "# Skewness of the RESPONDENT_AGE\n",
        "\n",
        "\n",
        "Finance.RESPONDENT_AGE.skew()"
      ],
      "execution_count": null,
      "outputs": [
        {
          "output_type": "execute_result",
          "data": {
            "text/plain": [
              "0.8406145812311228"
            ]
          },
          "metadata": {
            "tags": []
          },
          "execution_count": 39
        }
      ]
    },
    {
      "cell_type": "code",
      "metadata": {
        "id": "CznS9IJeKn62"
      },
      "source": [
        "# The age distribution is positively skewed  since its skewness is a positive value."
      ],
      "execution_count": null,
      "outputs": []
    },
    {
      "cell_type": "code",
      "metadata": {
        "id": "rLnMz8C3LAV6"
      },
      "source": [
        "# KURTOSIS \n",
        "\n",
        "# A measure of whether the data are heavy-tailed (profusion of outliers)\n",
        "# or light-tailed (lack of outliers) relative to a normal distribution.\n",
        "# If the kurtosis is close to 0, then a normal distribution is often assumed....These are called mesokurtic distributions.                        \n",
        "# If the kurtosis is less than zero, then the distribution has light tails ......called a platykurtic distribution.  \n",
        "# If the kurtosis is greater than zero, then the distribution has heavier tails .... called a leptokurtic distribution"
      ],
      "execution_count": null,
      "outputs": []
    },
    {
      "cell_type": "code",
      "metadata": {
        "id": "iXbjB3NuLF0H",
        "outputId": "81434876-55a4-4b19-cce4-47ebe7460120",
        "colab": {
          "base_uri": "https://localhost:8080/",
          "height": 35
        }
      },
      "source": [
        "# Kurtosis of the respondent_age\n",
        "\n",
        "Finance.RESPONDENT_AGE.kurt()\n",
        "\n"
      ],
      "execution_count": null,
      "outputs": [
        {
          "output_type": "execute_result",
          "data": {
            "text/plain": [
              "0.09826807013177241"
            ]
          },
          "metadata": {
            "tags": []
          },
          "execution_count": 41
        }
      ]
    },
    {
      "cell_type": "code",
      "metadata": {
        "id": "1aW44mq5LeAX"
      },
      "source": [
        "# The kurtosis is close to 0, hence a normal distribution is assumed....This is called mesokurtic distributions"
      ],
      "execution_count": null,
      "outputs": []
    },
    {
      "cell_type": "markdown",
      "metadata": {
        "id": "BusRpujULmBd"
      },
      "source": [
        "Visualiziation in Univariate analysis"
      ]
    },
    {
      "cell_type": "code",
      "metadata": {
        "id": "572TL-dtMroB",
        "outputId": "651d72ac-c795-45ef-ff0f-051e3b55e976",
        "colab": {
          "base_uri": "https://localhost:8080/",
          "height": 412
        }
      },
      "source": [
        "# A pie chart of the respondents who had/ had no bank account\n",
        "\n",
        "# grouping the data to be plotted\n",
        "Account = Finance.HAS_A_BANK_ACCOUNT.value_counts()\n",
        "Account\n",
        "\n",
        "# accessing the data to plot\n",
        "# labels\n",
        "sizes= Account.index\n",
        "sizes\n",
        "\n",
        "# values\n",
        "data = Account.values\n",
        "data\n",
        "\n",
        "# plotting the pie chart\n",
        "\n",
        "plt.figure(figsize = (6,6), dpi = 80)\n",
        "plt.pie(data, labels = sizes, autopct = '%2.1f%%', shadow = True, explode = (0.1,0), startangle = 90)\n",
        "plt.axis('equal')\n",
        "plt.title('A Pie Chart of respondents with and without a bank account', color = 'red')\n",
        "plt.show()\n",
        "\n"
      ],
      "execution_count": null,
      "outputs": [
        {
          "output_type": "display_data",
          "data": {
            "image/png": "[encoded data removed]",
            "text/plain": [
              "<Figure size 480x480 with 1 Axes>"
            ]
          },
          "metadata": {
            "tags": []
          }
        }
      ]
    },
    {
      "cell_type": "code",
      "metadata": {
        "id": "sRP6DzlFOGjq"
      },
      "source": [
        "# the pie chart shows only a few respondents (14.1%) have a bank account \n",
        "# the majority (85.9%) do not have a bank account"
      ],
      "execution_count": null,
      "outputs": []
    },
    {
      "cell_type": "code",
      "metadata": {
        "id": "HIVzf1rAOeYI",
        "outputId": "ccab8745-e07d-4835-de77-4003a9612f82",
        "colab": {
          "base_uri": "https://localhost:8080/",
          "height": 459
        }
      },
      "source": [
        "# Plotting a bar plot of the the country where the interviewee resides\n",
        "\n",
        "# Using seaborn to create a bar chart\n",
        "# specifying our chart size\n",
        "# Giving a title to our chart\n",
        "# Displaying our chart\n",
        "\n",
        "plt.figure(dpi = 100)\n",
        "sns.set_style('ticks')\n",
        "sns.countplot(Finance.COUNTRY)\n",
        "plt.title('A bar Plot of the number of Respondents by Country', color = 'blue')\n",
        "plt.show()\n",
        "\n"
      ],
      "execution_count": null,
      "outputs": [
        {
          "output_type": "stream",
          "text": [
            "/usr/local/lib/python3.6/dist-packages/seaborn/_decorators.py:43: FutureWarning: Pass the following variable as a keyword arg: x. From version 0.12, the only valid positional argument will be `data`, and passing other arguments without an explicit keyword will result in an error or misinterpretation.\n",
            "  FutureWarning\n"
          ],
          "name": "stderr"
        },
        {
          "output_type": "display_data",
          "data": {
            "image/png": "[encoded data removed]",
            "text/plain": [
              "<Figure size 600x400 with 1 Axes>"
            ]
          },
          "metadata": {
            "tags": []
          }
        }
      ]
    },
    {
      "cell_type": "code",
      "metadata": {
        "id": "yLxgPPn-PPsj"
      },
      "source": [
        "\n",
        "# The bar chart shows that most respondents were from Rwanda \n",
        "# the least number of respondents were from Uganda\n"
      ],
      "execution_count": null,
      "outputs": []
    },
    {
      "cell_type": "code",
      "metadata": {
        "id": "Vo015XH_PvZW",
        "outputId": "388aa95d-38ae-46c0-df3b-582d6d8cd070",
        "colab": {
          "base_uri": "https://localhost:8080/",
          "height": 324
        }
      },
      "source": [
        "# Histogram of respondent household_size\n",
        "\t \n",
        "\n",
        "# Using matplotlib to create a histogram\n",
        "# labeling the x axis\n",
        "# labeling the y axis\n",
        "# Giving a title to our chart\n",
        "# Displaying our chart\n",
        "\n",
        "\n",
        "\n",
        "plt.figure(dpi = 80)\n",
        "plt.hist(Finance['RESPONDENT_AGE'], bins = 10, histtype = 'bar', rwidth = 0.8, color = 'blue')\n",
        "plt.xlabel('RESPONDENT_AGE')\n",
        "plt.ylabel('Frequency')\n",
        "plt.title('A Histogram of respondents age', color = 'red')\n",
        "plt.show()\n",
        "\n"
      ],
      "execution_count": null,
      "outputs": [
        {
          "output_type": "display_data",
          "data": {
            "image/png": "[encoded data removed]",
            "text/plain": [
              "<Figure size 480x320 with 1 Axes>"
            ]
          },
          "metadata": {
            "tags": []
          }
        }
      ]
    },
    {
      "cell_type": "code",
      "metadata": {
        "id": "JjQ7KLyLQas0"
      },
      "source": [
        "# the histogram shows us that the respondent age distribution is skewed to the right\n",
        "# this is because the tail is long to the right side"
      ],
      "execution_count": null,
      "outputs": []
    },
    {
      "cell_type": "markdown",
      "metadata": {
        "id": "wOKbsxZAQocN"
      },
      "source": [
        "Bivariate analysis"
      ]
    },
    {
      "cell_type": "code",
      "metadata": {
        "id": "nHBvxfcRQ845"
      },
      "source": [
        "# Analysis of two different variables to find their causes and relationships between them "
      ],
      "execution_count": null,
      "outputs": []
    },
    {
      "cell_type": "markdown",
      "metadata": {
        "id": "fPG_EMALRANm"
      },
      "source": [
        "Visualizations"
      ]
    },
    {
      "cell_type": "code",
      "metadata": {
        "id": "cIpP5TeWRQvY",
        "outputId": "a426a8fe-8e6a-443a-ad57-9877d59524f5",
        "colab": {
          "base_uri": "https://localhost:8080/",
          "height": 296
        }
      },
      "source": [
        "# Plotting our scatterplot\n",
        "\n",
        "plt.scatter(Finance['HOUSEHOLD_SIZE'], Finance['RESPONDENT_AGE'])\n",
        "# Giving our scatterplot a title\n",
        "\n",
        "plt.title('A scatter plot of Age vs household size', color = 'RED')\n",
        "# Labelling our x axis\n",
        "plt.xlabel('household_size')\n",
        "\n",
        "# Labelling our y axis\n",
        "plt.ylabel('respondent_age')\n",
        "# Displaying our scatterplot\n",
        "plt.show()"
      ],
      "execution_count": null,
      "outputs": [
        {
          "output_type": "display_data",
          "data": {
            "image/png": "[encoded data removed]",
            "text/plain": [
              "<Figure size 432x288 with 1 Axes>"
            ]
          },
          "metadata": {
            "tags": []
          }
        }
      ]
    },
    {
      "cell_type": "code",
      "metadata": {
        "id": "pC7rbyegSqkO"
      },
      "source": [
        "# There is a weak correlation between age and household size in the dataset as the points are scattered throughout the graph."
      ],
      "execution_count": null,
      "outputs": []
    },
    {
      "cell_type": "code",
      "metadata": {
        "id": "MKyvi5s0SyiV",
        "outputId": "680b88c5-b7f6-4c17-806e-a010da075d3e",
        "colab": {
          "base_uri": "https://localhost:8080/",
          "height": 141
        }
      },
      "source": [
        "# Verifying my results\n",
        "Finance.corr()"
      ],
      "execution_count": null,
      "outputs": [
        {
          "output_type": "execute_result",
          "data": {
            "text/html": [
              "<div>\n",
              "<style scoped>\n",
              "    .dataframe tbody tr th:only-of-type {\n",
              "        vertical-align: middle;\n",
              "    }\n",
              "\n",
              "    .dataframe tbody tr th {\n",
              "        vertical-align: top;\n",
              "    }\n",
              "\n",
              "    .dataframe thead th {\n",
              "        text-align: right;\n",
              "    }\n",
              "</style>\n",
              "<table border=\"1\" class=\"dataframe\">\n",
              "  <thead>\n",
              "    <tr style=\"text-align: right;\">\n",
              "      <th></th>\n",
              "      <th>YEAR</th>\n",
              "      <th>HOUSEHOLD_SIZE</th>\n",
              "      <th>RESPONDENT_AGE</th>\n",
              "    </tr>\n",
              "  </thead>\n",
              "  <tbody>\n",
              "    <tr>\n",
              "      <th>YEAR</th>\n",
              "      <td>1.000000</td>\n",
              "      <td>-0.052484</td>\n",
              "      <td>-0.018554</td>\n",
              "    </tr>\n",
              "    <tr>\n",
              "      <th>HOUSEHOLD_SIZE</th>\n",
              "      <td>-0.052484</td>\n",
              "      <td>1.000000</td>\n",
              "      <td>-0.119671</td>\n",
              "    </tr>\n",
              "    <tr>\n",
              "      <th>RESPONDENT_AGE</th>\n",
              "      <td>-0.018554</td>\n",
              "      <td>-0.119671</td>\n",
              "      <td>1.000000</td>\n",
              "    </tr>\n",
              "  </tbody>\n",
              "</table>\n",
              "</div>"
            ],
            "text/plain": [
              "                    YEAR  HOUSEHOLD_SIZE  RESPONDENT_AGE\n",
              "YEAR            1.000000       -0.052484       -0.018554\n",
              "HOUSEHOLD_SIZE -0.052484        1.000000       -0.119671\n",
              "RESPONDENT_AGE -0.018554       -0.119671        1.000000"
            ]
          },
          "metadata": {
            "tags": []
          },
          "execution_count": 56
        }
      ]
    },
    {
      "cell_type": "code",
      "metadata": {
        "id": "HBTxHD2zTiTK",
        "outputId": "5721e292-d1bc-4281-8501-65deb38b83d8",
        "colab": {
          "base_uri": "https://localhost:8080/",
          "height": 202
        }
      },
      "source": [
        "#Line chart\n",
        " #Selecting a few observations in each column to plot a line graph\n",
        "# There are too many observations(23340) to plot all so i have just to select a few\n",
        "# using the iloc to select\n",
        "# 40 rows  \n",
        "# previewing the selection\n",
        "\n",
        "FinanceLine = Finance.iloc[0:40,-7:-5] \n",
        "FinanceLine.head()"
      ],
      "execution_count": null,
      "outputs": [
        {
          "output_type": "execute_result",
          "data": {
            "text/html": [
              "<div>\n",
              "<style scoped>\n",
              "    .dataframe tbody tr th:only-of-type {\n",
              "        vertical-align: middle;\n",
              "    }\n",
              "\n",
              "    .dataframe tbody tr th {\n",
              "        vertical-align: top;\n",
              "    }\n",
              "\n",
              "    .dataframe thead th {\n",
              "        text-align: right;\n",
              "    }\n",
              "</style>\n",
              "<table border=\"1\" class=\"dataframe\">\n",
              "  <thead>\n",
              "    <tr style=\"text-align: right;\">\n",
              "      <th></th>\n",
              "      <th>HOUSEHOLD_SIZE</th>\n",
              "      <th>RESPONDENT_AGE</th>\n",
              "    </tr>\n",
              "  </thead>\n",
              "  <tbody>\n",
              "    <tr>\n",
              "      <th>0</th>\n",
              "      <td>3.0</td>\n",
              "      <td>24.0</td>\n",
              "    </tr>\n",
              "    <tr>\n",
              "      <th>1</th>\n",
              "      <td>5.0</td>\n",
              "      <td>70.0</td>\n",
              "    </tr>\n",
              "    <tr>\n",
              "      <th>2</th>\n",
              "      <td>5.0</td>\n",
              "      <td>26.0</td>\n",
              "    </tr>\n",
              "    <tr>\n",
              "      <th>3</th>\n",
              "      <td>5.0</td>\n",
              "      <td>34.0</td>\n",
              "    </tr>\n",
              "    <tr>\n",
              "      <th>4</th>\n",
              "      <td>8.0</td>\n",
              "      <td>26.0</td>\n",
              "    </tr>\n",
              "  </tbody>\n",
              "</table>\n",
              "</div>"
            ],
            "text/plain": [
              "   HOUSEHOLD_SIZE  RESPONDENT_AGE\n",
              "0             3.0            24.0\n",
              "1             5.0            70.0\n",
              "2             5.0            26.0\n",
              "3             5.0            34.0\n",
              "4             8.0            26.0"
            ]
          },
          "metadata": {
            "tags": []
          },
          "execution_count": 57
        }
      ]
    },
    {
      "cell_type": "code",
      "metadata": {
        "id": "faDwfrDDW0Gw",
        "outputId": "de929e4c-ff15-4f2a-cca6-28b987adeac5",
        "colab": {
          "base_uri": "https://localhost:8080/",
          "height": 340
        }
      },
      "source": [
        "# Line chart of the respondent age and household size for the first 40 rows only\n",
        "\n",
        "\n",
        "# Plotting our line graph\n",
        "plt.plot(FinanceLine[['RESPONDENT_AGE', 'HOUSEHOLD_SIZE']])\n",
        "\n",
        "# Giving a title to our line graph\n",
        "plt.title(\"RESPONDENT_AGE vs HOUSEHOLD_SIZE'\", fontsize=12, y=1.2)\n",
        "\n",
        "# Labelling the y-axis\n",
        "plt.ylabel('RESPONDENT_AGE')\n",
        "\n",
        "# Labelling the x-axis\n",
        "plt.xlabel('HOUSEHOLD_SIZE')\n",
        "\n",
        "# Displaying our graph\n",
        "plt.show()"
      ],
      "execution_count": null,
      "outputs": [
        {
          "output_type": "display_data",
          "data": {
            "image/png": "[encoded data removed]",
            "text/plain": [
              "<Figure size 432x288 with 1 Axes>"
            ]
          },
          "metadata": {
            "tags": []
          }
        }
      ]
    },
    {
      "cell_type": "code",
      "metadata": {
        "id": "aQ-HIxb0ZoI7"
      },
      "source": [
        "# Correlation\n",
        "# It is a statistical measure that describes the association between random variables.\n",
        "# Correlation coefficients between -.20 and .20 are generally considered weak, \n",
        "# between .20 and .50 (positive or negative) are considered moderate, \n",
        "# and above .50 (positive or negative) are considered strong. \n"
      ],
      "execution_count": null,
      "outputs": []
    },
    {
      "cell_type": "code",
      "metadata": {
        "id": "KFEkTIbVZ0gX",
        "outputId": "3dd67c3d-3f89-4efb-f697-09df01f40e4e",
        "colab": {
          "base_uri": "https://localhost:8080/",
          "height": 52
        }
      },
      "source": [
        "# Calculating the Pearson Correlation Co-efficient\n",
        "\n",
        "Fcorr = Finance[\"RESPONDENT_AGE\"].corr(Finance[\"HOUSEHOLD_SIZE\"], method=\"pearson\") \n",
        "print(Fcorr)\n",
        "\n",
        "# We do not need to define the pearson, it calculates by default\n",
        "\n",
        "Fcorr = Finance[\"RESPONDENT_AGE\"].corr(Finance[\"HOUSEHOLD_SIZE\"]) \n",
        "print(Fcorr)\n",
        "\n",
        "\n"
      ],
      "execution_count": null,
      "outputs": [
        {
          "output_type": "stream",
          "text": [
            "-0.11967115234154871\n",
            "-0.11967115234154871\n"
          ],
          "name": "stdout"
        }
      ]
    },
    {
      "cell_type": "code",
      "metadata": {
        "id": "4TzfLSWdbPw7"
      },
      "source": [
        "# The correlation coefficent of Age and Household is -0.12, \n",
        "# This implies that Age and Household have a very weak negative correlation"
      ],
      "execution_count": null,
      "outputs": []
    },
    {
      "cell_type": "code",
      "metadata": {
        "id": "-Z8RFA0Xf4tR",
        "outputId": "f1804d12-5df4-45e7-f102-0a2d25fb3708",
        "colab": {
          "base_uri": "https://localhost:8080/",
          "height": 391
        }
      },
      "source": [
        "# Heatmap can be used to display correlation as well\n",
        "\n",
        "# defining our data\n",
        "w = Finance.corr()\n",
        "# figure size specifications\n",
        "plt.figure(figsize = (4,4), dpi = 80)\n",
        "# using the Seaborn Visualization library\n",
        "sns.heatmap(w, xticklabels = w.columns, yticklabels=w.columns, annot = True)\n",
        "# Rotating our x axis \n",
        "plt.xticks(rotation = 55)\n",
        "# Rotating our y axis ticks\n",
        "plt.yticks(rotation = 55)\n",
        "# labelling the title#\n",
        "plt.title('A heatmap of the pearson co-efficients Finance dataset', color = \"red\")\n",
        "# displaying our chart\n",
        "plt.show()"
      ],
      "execution_count": null,
      "outputs": [
        {
          "output_type": "display_data",
          "data": {
            "image/png": "[encoded data removed]",
            "text/plain": [
              "<Figure size 320x320 with 2 Axes>"
            ]
          },
          "metadata": {
            "tags": []
          }
        }
      ]
    },
    {
      "cell_type": "markdown",
      "metadata": {
        "id": "wo9_mh9zhTNh"
      },
      "source": [
        "Multivariate analysis"
      ]
    },
    {
      "cell_type": "code",
      "metadata": {
        "id": "igDMTKM6q2Il"
      },
      "source": [
        "#Multivariate analysis is a type of analysis that is used to study more complex datasets than\n",
        " #what univariate analysis methods can handle"
      ],
      "execution_count": null,
      "outputs": []
    },
    {
      "cell_type": "code",
      "metadata": {
        "id": "PwVsgPN6tbe1",
        "outputId": "a21c2a04-77e4-4683-c6c9-ec292277b1b7",
        "colab": {
          "base_uri": "https://localhost:8080/",
          "height": 104
        }
      },
      "source": [
        "Finance.columns"
      ],
      "execution_count": null,
      "outputs": [
        {
          "output_type": "execute_result",
          "data": {
            "text/plain": [
              "Index(['COUNTRY', 'YEAR', 'HAS_A_BANK_ACCOUNT', 'TYPE_OF_LOCATION',\n",
              "       'CELL_PHONE_ACCESS', 'HOUSEHOLD_SIZE', 'RESPONDENT_AGE',\n",
              "       'GENDER_OF_RESPONDENT', 'THE_RELATIONSHIP_WITH_HEAD', 'MARITAL_STATUS',\n",
              "       'LEVEL_OF_EDUCATION', 'TYPE_OF_JOB'],\n",
              "      dtype='object')"
            ]
          },
          "metadata": {
            "tags": []
          },
          "execution_count": 133
        }
      ]
    },
    {
      "cell_type": "code",
      "metadata": {
        "id": "VYOaWESXt6Q7",
        "outputId": "9a2f27f9-b41d-4885-927a-8c24935dfe11",
        "colab": {
          "base_uri": "https://localhost:8080/",
          "height": 347
        }
      },
      "source": [
        "Finance.info()"
      ],
      "execution_count": null,
      "outputs": [
        {
          "output_type": "stream",
          "text": [
            "<class 'pandas.core.frame.DataFrame'>\n",
            "Int64Index: 23521 entries, 0 to 23523\n",
            "Data columns (total 12 columns):\n",
            " #   Column                      Non-Null Count  Dtype  \n",
            "---  ------                      --------------  -----  \n",
            " 0   COUNTRY                     23507 non-null  object \n",
            " 1   YEAR                        23521 non-null  int64  \n",
            " 2   HAS_A_BANK_ACCOUNT          23485 non-null  object \n",
            " 3   TYPE_OF_LOCATION            23506 non-null  object \n",
            " 4   CELL_PHONE_ACCESS           23510 non-null  object \n",
            " 5   HOUSEHOLD_SIZE              23493 non-null  float64\n",
            " 6   RESPONDENT_AGE              23487 non-null  float64\n",
            " 7   GENDER_OF_RESPONDENT        23487 non-null  object \n",
            " 8   THE_RELATIONSHIP_WITH_HEAD  23517 non-null  object \n",
            " 9   MARITAL_STATUS              23489 non-null  object \n",
            " 10  LEVEL_OF_EDUCATION          23492 non-null  object \n",
            " 11  TYPE_OF_JOB                 23491 non-null  object \n",
            "dtypes: float64(2), int64(1), object(9)\n",
            "memory usage: 3.0+ MB\n"
          ],
          "name": "stdout"
        }
      ]
    },
    {
      "cell_type": "code",
      "metadata": {
        "id": "VkUhyt5Ds5TI",
        "outputId": "9131c958-b844-4b5c-aa96-f4e9bc3ea16f",
        "colab": {
          "base_uri": "https://localhost:8080/",
          "height": 165
        }
      },
      "source": [
        "\n",
        "# pd.get_dummies creates a new dataframe which consists of zeros and ones.\n",
        "# categories into dummy variables with ones and zeros\n",
        "\n",
        "FinanceDummy = pd.get_dummies(Finance[['COUNTRY', 'TYPE_OF_LOCATION','CELL_PHONE_ACCESS','GENDER_OF_RESPONDENT','THE_RELATIONSHIP_WITH_HEAD','MARITAL_STATUS', 'LEVEL_OF_EDUCATION', 'TYPE_OF_JOB']])\n",
        "FinanceDummy.head(2)"
      ],
      "execution_count": null,
      "outputs": [
        {
          "output_type": "execute_result",
          "data": {
            "text/html": [
              "<div>\n",
              "<style scoped>\n",
              "    .dataframe tbody tr th:only-of-type {\n",
              "        vertical-align: middle;\n",
              "    }\n",
              "\n",
              "    .dataframe tbody tr th {\n",
              "        vertical-align: top;\n",
              "    }\n",
              "\n",
              "    .dataframe thead th {\n",
              "        text-align: right;\n",
              "    }\n",
              "</style>\n",
              "<table border=\"1\" class=\"dataframe\">\n",
              "  <thead>\n",
              "    <tr style=\"text-align: right;\">\n",
              "      <th></th>\n",
              "      <th>COUNTRY_Kenya</th>\n",
              "      <th>COUNTRY_Rwanda</th>\n",
              "      <th>COUNTRY_Tanzania</th>\n",
              "      <th>COUNTRY_Uganda</th>\n",
              "      <th>TYPE_OF_LOCATION_Rural</th>\n",
              "      <th>TYPE_OF_LOCATION_Urban</th>\n",
              "      <th>CELL_PHONE_ACCESS_No</th>\n",
              "      <th>CELL_PHONE_ACCESS_Yes</th>\n",
              "      <th>GENDER_OF_RESPONDENT_Female</th>\n",
              "      <th>GENDER_OF_RESPONDENT_Male</th>\n",
              "      <th>THE_RELATIONSHIP_WITH_HEAD_Child</th>\n",
              "      <th>THE_RELATIONSHIP_WITH_HEAD_Head of Household</th>\n",
              "      <th>THE_RELATIONSHIP_WITH_HEAD_Other non-relatives</th>\n",
              "      <th>THE_RELATIONSHIP_WITH_HEAD_Other relative</th>\n",
              "      <th>THE_RELATIONSHIP_WITH_HEAD_Parent</th>\n",
              "      <th>THE_RELATIONSHIP_WITH_HEAD_Spouse</th>\n",
              "      <th>MARITAL_STATUS_Divorced/Seperated</th>\n",
              "      <th>MARITAL_STATUS_Dont know</th>\n",
              "      <th>MARITAL_STATUS_Married/Living together</th>\n",
              "      <th>MARITAL_STATUS_Single/Never Married</th>\n",
              "      <th>MARITAL_STATUS_Widowed</th>\n",
              "      <th>LEVEL_OF_EDUCATION_6</th>\n",
              "      <th>LEVEL_OF_EDUCATION_No formal education</th>\n",
              "      <th>LEVEL_OF_EDUCATION_Other/Dont know/RTA</th>\n",
              "      <th>LEVEL_OF_EDUCATION_Primary education</th>\n",
              "      <th>LEVEL_OF_EDUCATION_Secondary education</th>\n",
              "      <th>LEVEL_OF_EDUCATION_Tertiary education</th>\n",
              "      <th>LEVEL_OF_EDUCATION_Vocational/Specialised training</th>\n",
              "      <th>TYPE_OF_JOB_Dont Know/Refuse to answer</th>\n",
              "      <th>TYPE_OF_JOB_Farming and Fishing</th>\n",
              "      <th>TYPE_OF_JOB_Formally employed Government</th>\n",
              "      <th>TYPE_OF_JOB_Formally employed Private</th>\n",
              "      <th>TYPE_OF_JOB_Government Dependent</th>\n",
              "      <th>TYPE_OF_JOB_Informally employed</th>\n",
              "      <th>TYPE_OF_JOB_No Income</th>\n",
              "      <th>TYPE_OF_JOB_Other Income</th>\n",
              "      <th>TYPE_OF_JOB_Remittance Dependent</th>\n",
              "      <th>TYPE_OF_JOB_Self employed</th>\n",
              "    </tr>\n",
              "  </thead>\n",
              "  <tbody>\n",
              "    <tr>\n",
              "      <th>0</th>\n",
              "      <td>1</td>\n",
              "      <td>0</td>\n",
              "      <td>0</td>\n",
              "      <td>0</td>\n",
              "      <td>1</td>\n",
              "      <td>0</td>\n",
              "      <td>0</td>\n",
              "      <td>1</td>\n",
              "      <td>1</td>\n",
              "      <td>0</td>\n",
              "      <td>0</td>\n",
              "      <td>0</td>\n",
              "      <td>0</td>\n",
              "      <td>0</td>\n",
              "      <td>0</td>\n",
              "      <td>1</td>\n",
              "      <td>0</td>\n",
              "      <td>0</td>\n",
              "      <td>1</td>\n",
              "      <td>0</td>\n",
              "      <td>0</td>\n",
              "      <td>0</td>\n",
              "      <td>0</td>\n",
              "      <td>0</td>\n",
              "      <td>0</td>\n",
              "      <td>1</td>\n",
              "      <td>0</td>\n",
              "      <td>0</td>\n",
              "      <td>0</td>\n",
              "      <td>0</td>\n",
              "      <td>0</td>\n",
              "      <td>0</td>\n",
              "      <td>0</td>\n",
              "      <td>0</td>\n",
              "      <td>0</td>\n",
              "      <td>0</td>\n",
              "      <td>0</td>\n",
              "      <td>1</td>\n",
              "    </tr>\n",
              "    <tr>\n",
              "      <th>1</th>\n",
              "      <td>1</td>\n",
              "      <td>0</td>\n",
              "      <td>0</td>\n",
              "      <td>0</td>\n",
              "      <td>1</td>\n",
              "      <td>0</td>\n",
              "      <td>1</td>\n",
              "      <td>0</td>\n",
              "      <td>1</td>\n",
              "      <td>0</td>\n",
              "      <td>0</td>\n",
              "      <td>1</td>\n",
              "      <td>0</td>\n",
              "      <td>0</td>\n",
              "      <td>0</td>\n",
              "      <td>0</td>\n",
              "      <td>0</td>\n",
              "      <td>0</td>\n",
              "      <td>0</td>\n",
              "      <td>0</td>\n",
              "      <td>1</td>\n",
              "      <td>0</td>\n",
              "      <td>1</td>\n",
              "      <td>0</td>\n",
              "      <td>0</td>\n",
              "      <td>0</td>\n",
              "      <td>0</td>\n",
              "      <td>0</td>\n",
              "      <td>0</td>\n",
              "      <td>0</td>\n",
              "      <td>0</td>\n",
              "      <td>0</td>\n",
              "      <td>1</td>\n",
              "      <td>0</td>\n",
              "      <td>0</td>\n",
              "      <td>0</td>\n",
              "      <td>0</td>\n",
              "      <td>0</td>\n",
              "    </tr>\n",
              "  </tbody>\n",
              "</table>\n",
              "</div>"
            ],
            "text/plain": [
              "   COUNTRY_Kenya  ...  TYPE_OF_JOB_Self employed\n",
              "0              1  ...                          1\n",
              "1              1  ...                          0\n",
              "\n",
              "[2 rows x 38 columns]"
            ]
          },
          "metadata": {
            "tags": []
          },
          "execution_count": 120
        }
      ]
    },
    {
      "cell_type": "code",
      "metadata": {
        "id": "ASwZcwJwvlcl",
        "outputId": "86a26172-a0d1-4993-a518-5f3480e92a8f",
        "colab": {
          "base_uri": "https://localhost:8080/",
          "height": 247
        }
      },
      "source": [
        "# A new dataset has been created\n",
        "#For comparison i need either to merge or concatenate them for them to propoerly work\n",
        "\n",
        "# The dummy variables will be on the right side of the dataset\n",
        "\n",
        "# concatenating \n",
        "\n",
        "FinanceConcat = pd.concat([Finance, FinanceDummy], axis = 1)\n",
        "FinanceConcat.head(3)"
      ],
      "execution_count": null,
      "outputs": [
        {
          "output_type": "execute_result",
          "data": {
            "text/html": [
              "<div>\n",
              "<style scoped>\n",
              "    .dataframe tbody tr th:only-of-type {\n",
              "        vertical-align: middle;\n",
              "    }\n",
              "\n",
              "    .dataframe tbody tr th {\n",
              "        vertical-align: top;\n",
              "    }\n",
              "\n",
              "    .dataframe thead th {\n",
              "        text-align: right;\n",
              "    }\n",
              "</style>\n",
              "<table border=\"1\" class=\"dataframe\">\n",
              "  <thead>\n",
              "    <tr style=\"text-align: right;\">\n",
              "      <th></th>\n",
              "      <th>COUNTRY</th>\n",
              "      <th>YEAR</th>\n",
              "      <th>HAS_A_BANK_ACCOUNT</th>\n",
              "      <th>TYPE_OF_LOCATION</th>\n",
              "      <th>CELL_PHONE_ACCESS</th>\n",
              "      <th>HOUSEHOLD_SIZE</th>\n",
              "      <th>RESPONDENT_AGE</th>\n",
              "      <th>GENDER_OF_RESPONDENT</th>\n",
              "      <th>THE_RELATIONSHIP_WITH_HEAD</th>\n",
              "      <th>MARITAL_STATUS</th>\n",
              "      <th>LEVEL_OF_EDUCATION</th>\n",
              "      <th>TYPE_OF_JOB</th>\n",
              "      <th>COUNTRY_Kenya</th>\n",
              "      <th>COUNTRY_Rwanda</th>\n",
              "      <th>COUNTRY_Tanzania</th>\n",
              "      <th>COUNTRY_Uganda</th>\n",
              "      <th>TYPE_OF_LOCATION_Rural</th>\n",
              "      <th>TYPE_OF_LOCATION_Urban</th>\n",
              "      <th>CELL_PHONE_ACCESS_No</th>\n",
              "      <th>CELL_PHONE_ACCESS_Yes</th>\n",
              "      <th>GENDER_OF_RESPONDENT_Female</th>\n",
              "      <th>GENDER_OF_RESPONDENT_Male</th>\n",
              "      <th>THE_RELATIONSHIP_WITH_HEAD_Child</th>\n",
              "      <th>THE_RELATIONSHIP_WITH_HEAD_Head of Household</th>\n",
              "      <th>THE_RELATIONSHIP_WITH_HEAD_Other non-relatives</th>\n",
              "      <th>THE_RELATIONSHIP_WITH_HEAD_Other relative</th>\n",
              "      <th>THE_RELATIONSHIP_WITH_HEAD_Parent</th>\n",
              "      <th>THE_RELATIONSHIP_WITH_HEAD_Spouse</th>\n",
              "      <th>MARITAL_STATUS_Divorced/Seperated</th>\n",
              "      <th>MARITAL_STATUS_Dont know</th>\n",
              "      <th>MARITAL_STATUS_Married/Living together</th>\n",
              "      <th>MARITAL_STATUS_Single/Never Married</th>\n",
              "      <th>MARITAL_STATUS_Widowed</th>\n",
              "      <th>LEVEL_OF_EDUCATION_6</th>\n",
              "      <th>LEVEL_OF_EDUCATION_No formal education</th>\n",
              "      <th>LEVEL_OF_EDUCATION_Other/Dont know/RTA</th>\n",
              "      <th>LEVEL_OF_EDUCATION_Primary education</th>\n",
              "      <th>LEVEL_OF_EDUCATION_Secondary education</th>\n",
              "      <th>LEVEL_OF_EDUCATION_Tertiary education</th>\n",
              "      <th>LEVEL_OF_EDUCATION_Vocational/Specialised training</th>\n",
              "      <th>TYPE_OF_JOB_Dont Know/Refuse to answer</th>\n",
              "      <th>TYPE_OF_JOB_Farming and Fishing</th>\n",
              "      <th>TYPE_OF_JOB_Formally employed Government</th>\n",
              "      <th>TYPE_OF_JOB_Formally employed Private</th>\n",
              "      <th>TYPE_OF_JOB_Government Dependent</th>\n",
              "      <th>TYPE_OF_JOB_Informally employed</th>\n",
              "      <th>TYPE_OF_JOB_No Income</th>\n",
              "      <th>TYPE_OF_JOB_Other Income</th>\n",
              "      <th>TYPE_OF_JOB_Remittance Dependent</th>\n",
              "      <th>TYPE_OF_JOB_Self employed</th>\n",
              "    </tr>\n",
              "  </thead>\n",
              "  <tbody>\n",
              "    <tr>\n",
              "      <th>0</th>\n",
              "      <td>Kenya</td>\n",
              "      <td>2018</td>\n",
              "      <td>Yes</td>\n",
              "      <td>Rural</td>\n",
              "      <td>Yes</td>\n",
              "      <td>3.0</td>\n",
              "      <td>24.0</td>\n",
              "      <td>Female</td>\n",
              "      <td>Spouse</td>\n",
              "      <td>Married/Living together</td>\n",
              "      <td>Secondary education</td>\n",
              "      <td>Self employed</td>\n",
              "      <td>1</td>\n",
              "      <td>0</td>\n",
              "      <td>0</td>\n",
              "      <td>0</td>\n",
              "      <td>1</td>\n",
              "      <td>0</td>\n",
              "      <td>0</td>\n",
              "      <td>1</td>\n",
              "      <td>1</td>\n",
              "      <td>0</td>\n",
              "      <td>0</td>\n",
              "      <td>0</td>\n",
              "      <td>0</td>\n",
              "      <td>0</td>\n",
              "      <td>0</td>\n",
              "      <td>1</td>\n",
              "      <td>0</td>\n",
              "      <td>0</td>\n",
              "      <td>1</td>\n",
              "      <td>0</td>\n",
              "      <td>0</td>\n",
              "      <td>0</td>\n",
              "      <td>0</td>\n",
              "      <td>0</td>\n",
              "      <td>0</td>\n",
              "      <td>1</td>\n",
              "      <td>0</td>\n",
              "      <td>0</td>\n",
              "      <td>0</td>\n",
              "      <td>0</td>\n",
              "      <td>0</td>\n",
              "      <td>0</td>\n",
              "      <td>0</td>\n",
              "      <td>0</td>\n",
              "      <td>0</td>\n",
              "      <td>0</td>\n",
              "      <td>0</td>\n",
              "      <td>1</td>\n",
              "    </tr>\n",
              "    <tr>\n",
              "      <th>1</th>\n",
              "      <td>Kenya</td>\n",
              "      <td>2018</td>\n",
              "      <td>No</td>\n",
              "      <td>Rural</td>\n",
              "      <td>No</td>\n",
              "      <td>5.0</td>\n",
              "      <td>70.0</td>\n",
              "      <td>Female</td>\n",
              "      <td>Head of Household</td>\n",
              "      <td>Widowed</td>\n",
              "      <td>No formal education</td>\n",
              "      <td>Government Dependent</td>\n",
              "      <td>1</td>\n",
              "      <td>0</td>\n",
              "      <td>0</td>\n",
              "      <td>0</td>\n",
              "      <td>1</td>\n",
              "      <td>0</td>\n",
              "      <td>1</td>\n",
              "      <td>0</td>\n",
              "      <td>1</td>\n",
              "      <td>0</td>\n",
              "      <td>0</td>\n",
              "      <td>1</td>\n",
              "      <td>0</td>\n",
              "      <td>0</td>\n",
              "      <td>0</td>\n",
              "      <td>0</td>\n",
              "      <td>0</td>\n",
              "      <td>0</td>\n",
              "      <td>0</td>\n",
              "      <td>0</td>\n",
              "      <td>1</td>\n",
              "      <td>0</td>\n",
              "      <td>1</td>\n",
              "      <td>0</td>\n",
              "      <td>0</td>\n",
              "      <td>0</td>\n",
              "      <td>0</td>\n",
              "      <td>0</td>\n",
              "      <td>0</td>\n",
              "      <td>0</td>\n",
              "      <td>0</td>\n",
              "      <td>0</td>\n",
              "      <td>1</td>\n",
              "      <td>0</td>\n",
              "      <td>0</td>\n",
              "      <td>0</td>\n",
              "      <td>0</td>\n",
              "      <td>0</td>\n",
              "    </tr>\n",
              "    <tr>\n",
              "      <th>2</th>\n",
              "      <td>Kenya</td>\n",
              "      <td>2018</td>\n",
              "      <td>Yes</td>\n",
              "      <td>Urban</td>\n",
              "      <td>Yes</td>\n",
              "      <td>5.0</td>\n",
              "      <td>26.0</td>\n",
              "      <td>Male</td>\n",
              "      <td>Other relative</td>\n",
              "      <td>Single/Never Married</td>\n",
              "      <td>Vocational/Specialised training</td>\n",
              "      <td>Self employed</td>\n",
              "      <td>1</td>\n",
              "      <td>0</td>\n",
              "      <td>0</td>\n",
              "      <td>0</td>\n",
              "      <td>0</td>\n",
              "      <td>1</td>\n",
              "      <td>0</td>\n",
              "      <td>1</td>\n",
              "      <td>0</td>\n",
              "      <td>1</td>\n",
              "      <td>0</td>\n",
              "      <td>0</td>\n",
              "      <td>0</td>\n",
              "      <td>1</td>\n",
              "      <td>0</td>\n",
              "      <td>0</td>\n",
              "      <td>0</td>\n",
              "      <td>0</td>\n",
              "      <td>0</td>\n",
              "      <td>1</td>\n",
              "      <td>0</td>\n",
              "      <td>0</td>\n",
              "      <td>0</td>\n",
              "      <td>0</td>\n",
              "      <td>0</td>\n",
              "      <td>0</td>\n",
              "      <td>0</td>\n",
              "      <td>1</td>\n",
              "      <td>0</td>\n",
              "      <td>0</td>\n",
              "      <td>0</td>\n",
              "      <td>0</td>\n",
              "      <td>0</td>\n",
              "      <td>0</td>\n",
              "      <td>0</td>\n",
              "      <td>0</td>\n",
              "      <td>0</td>\n",
              "      <td>1</td>\n",
              "    </tr>\n",
              "  </tbody>\n",
              "</table>\n",
              "</div>"
            ],
            "text/plain": [
              "  COUNTRY  YEAR  ... TYPE_OF_JOB_Remittance Dependent TYPE_OF_JOB_Self employed\n",
              "0   Kenya  2018  ...                                0                         1\n",
              "1   Kenya  2018  ...                                0                         0\n",
              "2   Kenya  2018  ...                                0                         1\n",
              "\n",
              "[3 rows x 50 columns]"
            ]
          },
          "metadata": {
            "tags": []
          },
          "execution_count": 135
        }
      ]
    },
    {
      "cell_type": "markdown",
      "metadata": {
        "id": "eJQLUSUgw_4w"
      },
      "source": [
        "  Reduction Techniques"
      ]
    },
    {
      "cell_type": "code",
      "metadata": {
        "id": "CBvYeA6SxMIn"
      },
      "source": [
        "#if you can reduce your many variables into 2 or 3 significant ones, \n",
        "#then you can visualize patterns much better."
      ],
      "execution_count": null,
      "outputs": []
    },
    {
      "cell_type": "markdown",
      "metadata": {
        "id": "fZPpzKcKxvgV"
      },
      "source": [
        "Principal component analysis"
      ]
    },
    {
      "cell_type": "code",
      "metadata": {
        "id": "GdG1OZzyx14d"
      },
      "source": [
        "\n",
        "\n",
        "#Principal component analysis (PCA) is a statistical analysis that transforms a number of correlated variables into a smaller number of uncorrelated variables called principal components.\n",
        "# PCA, is a statistical technique to convert high dimensional data to low dimensional data by \n",
        "# selecting the most important features that capture maximum information about the dataset.\n",
        "# The features are selected on the basis of variance that they cause in the output. \n",
        "# The feature that causes highest variance is the first principal component. \n",
        "# The feature that is responsible for second highest variance is considered the second principal component, and so on.\n",
        "# Note: principal components do not have any correlation with each other.\n",
        "#Finally, the last point to remember before we start coding is that PCA is a statistical technique \n",
        "#and can only be applied to numeric data. Therefore, categorical features are required to be converted into numerical features before PCA can be applied.\n"
      ],
      "execution_count": null,
      "outputs": []
    },
    {
      "cell_type": "code",
      "metadata": {
        "id": "uZ0cAnnGzoPE"
      },
      "source": [
        "# Preprocessing steps\n",
        "\n",
        "\n",
        "# Step 1\n",
        "# The first preprocessing step is to divide the dataset into;\n",
        "# a feature set: X, \n",
        "# and corresponding label: y.\n",
        "X = FinanceConcat.drop(columns = ['COUNTRY','HAS_A_BANK_ACCOUNT','TYPE_OF_LOCATION','CELL_PHONE_ACCESS','HOUSEHOLD_SIZE','RESPONDENT_AGE','GENDER_OF_RESPONDENT','THE_RELATIONSHIP_WITH_HEAD','MARITAL_STATUS','LEVEL_OF_EDUCATION','TYPE_OF_JOB'],axis=1)\n",
        "y = FinanceConcat['HAS_A_BANK_ACCOUNT']"
      ],
      "execution_count": null,
      "outputs": []
    },
    {
      "cell_type": "code",
      "metadata": {
        "id": "xY9yFT_r3Nqg",
        "outputId": "4ac190ed-6647-4aca-c363-8feca0b67dc8",
        "colab": {
          "base_uri": "https://localhost:8080/",
          "height": 257
        }
      },
      "source": [
        "X.head(5)"
      ],
      "execution_count": null,
      "outputs": [
        {
          "output_type": "execute_result",
          "data": {
            "text/html": [
              "<div>\n",
              "<style scoped>\n",
              "    .dataframe tbody tr th:only-of-type {\n",
              "        vertical-align: middle;\n",
              "    }\n",
              "\n",
              "    .dataframe tbody tr th {\n",
              "        vertical-align: top;\n",
              "    }\n",
              "\n",
              "    .dataframe thead th {\n",
              "        text-align: right;\n",
              "    }\n",
              "</style>\n",
              "<table border=\"1\" class=\"dataframe\">\n",
              "  <thead>\n",
              "    <tr style=\"text-align: right;\">\n",
              "      <th></th>\n",
              "      <th>YEAR</th>\n",
              "      <th>COUNTRY_Kenya</th>\n",
              "      <th>COUNTRY_Rwanda</th>\n",
              "      <th>COUNTRY_Tanzania</th>\n",
              "      <th>COUNTRY_Uganda</th>\n",
              "      <th>TYPE_OF_LOCATION_Rural</th>\n",
              "      <th>TYPE_OF_LOCATION_Urban</th>\n",
              "      <th>CELL_PHONE_ACCESS_No</th>\n",
              "      <th>CELL_PHONE_ACCESS_Yes</th>\n",
              "      <th>GENDER_OF_RESPONDENT_Female</th>\n",
              "      <th>GENDER_OF_RESPONDENT_Male</th>\n",
              "      <th>THE_RELATIONSHIP_WITH_HEAD_Child</th>\n",
              "      <th>THE_RELATIONSHIP_WITH_HEAD_Head of Household</th>\n",
              "      <th>THE_RELATIONSHIP_WITH_HEAD_Other non-relatives</th>\n",
              "      <th>THE_RELATIONSHIP_WITH_HEAD_Other relative</th>\n",
              "      <th>THE_RELATIONSHIP_WITH_HEAD_Parent</th>\n",
              "      <th>THE_RELATIONSHIP_WITH_HEAD_Spouse</th>\n",
              "      <th>MARITAL_STATUS_Divorced/Seperated</th>\n",
              "      <th>MARITAL_STATUS_Dont know</th>\n",
              "      <th>MARITAL_STATUS_Married/Living together</th>\n",
              "      <th>MARITAL_STATUS_Single/Never Married</th>\n",
              "      <th>MARITAL_STATUS_Widowed</th>\n",
              "      <th>LEVEL_OF_EDUCATION_6</th>\n",
              "      <th>LEVEL_OF_EDUCATION_No formal education</th>\n",
              "      <th>LEVEL_OF_EDUCATION_Other/Dont know/RTA</th>\n",
              "      <th>LEVEL_OF_EDUCATION_Primary education</th>\n",
              "      <th>LEVEL_OF_EDUCATION_Secondary education</th>\n",
              "      <th>LEVEL_OF_EDUCATION_Tertiary education</th>\n",
              "      <th>LEVEL_OF_EDUCATION_Vocational/Specialised training</th>\n",
              "      <th>TYPE_OF_JOB_Dont Know/Refuse to answer</th>\n",
              "      <th>TYPE_OF_JOB_Farming and Fishing</th>\n",
              "      <th>TYPE_OF_JOB_Formally employed Government</th>\n",
              "      <th>TYPE_OF_JOB_Formally employed Private</th>\n",
              "      <th>TYPE_OF_JOB_Government Dependent</th>\n",
              "      <th>TYPE_OF_JOB_Informally employed</th>\n",
              "      <th>TYPE_OF_JOB_No Income</th>\n",
              "      <th>TYPE_OF_JOB_Other Income</th>\n",
              "      <th>TYPE_OF_JOB_Remittance Dependent</th>\n",
              "      <th>TYPE_OF_JOB_Self employed</th>\n",
              "    </tr>\n",
              "  </thead>\n",
              "  <tbody>\n",
              "    <tr>\n",
              "      <th>0</th>\n",
              "      <td>2018</td>\n",
              "      <td>1</td>\n",
              "      <td>0</td>\n",
              "      <td>0</td>\n",
              "      <td>0</td>\n",
              "      <td>1</td>\n",
              "      <td>0</td>\n",
              "      <td>0</td>\n",
              "      <td>1</td>\n",
              "      <td>1</td>\n",
              "      <td>0</td>\n",
              "      <td>0</td>\n",
              "      <td>0</td>\n",
              "      <td>0</td>\n",
              "      <td>0</td>\n",
              "      <td>0</td>\n",
              "      <td>1</td>\n",
              "      <td>0</td>\n",
              "      <td>0</td>\n",
              "      <td>1</td>\n",
              "      <td>0</td>\n",
              "      <td>0</td>\n",
              "      <td>0</td>\n",
              "      <td>0</td>\n",
              "      <td>0</td>\n",
              "      <td>0</td>\n",
              "      <td>1</td>\n",
              "      <td>0</td>\n",
              "      <td>0</td>\n",
              "      <td>0</td>\n",
              "      <td>0</td>\n",
              "      <td>0</td>\n",
              "      <td>0</td>\n",
              "      <td>0</td>\n",
              "      <td>0</td>\n",
              "      <td>0</td>\n",
              "      <td>0</td>\n",
              "      <td>0</td>\n",
              "      <td>1</td>\n",
              "    </tr>\n",
              "    <tr>\n",
              "      <th>1</th>\n",
              "      <td>2018</td>\n",
              "      <td>1</td>\n",
              "      <td>0</td>\n",
              "      <td>0</td>\n",
              "      <td>0</td>\n",
              "      <td>1</td>\n",
              "      <td>0</td>\n",
              "      <td>1</td>\n",
              "      <td>0</td>\n",
              "      <td>1</td>\n",
              "      <td>0</td>\n",
              "      <td>0</td>\n",
              "      <td>1</td>\n",
              "      <td>0</td>\n",
              "      <td>0</td>\n",
              "      <td>0</td>\n",
              "      <td>0</td>\n",
              "      <td>0</td>\n",
              "      <td>0</td>\n",
              "      <td>0</td>\n",
              "      <td>0</td>\n",
              "      <td>1</td>\n",
              "      <td>0</td>\n",
              "      <td>1</td>\n",
              "      <td>0</td>\n",
              "      <td>0</td>\n",
              "      <td>0</td>\n",
              "      <td>0</td>\n",
              "      <td>0</td>\n",
              "      <td>0</td>\n",
              "      <td>0</td>\n",
              "      <td>0</td>\n",
              "      <td>0</td>\n",
              "      <td>1</td>\n",
              "      <td>0</td>\n",
              "      <td>0</td>\n",
              "      <td>0</td>\n",
              "      <td>0</td>\n",
              "      <td>0</td>\n",
              "    </tr>\n",
              "    <tr>\n",
              "      <th>2</th>\n",
              "      <td>2018</td>\n",
              "      <td>1</td>\n",
              "      <td>0</td>\n",
              "      <td>0</td>\n",
              "      <td>0</td>\n",
              "      <td>0</td>\n",
              "      <td>1</td>\n",
              "      <td>0</td>\n",
              "      <td>1</td>\n",
              "      <td>0</td>\n",
              "      <td>1</td>\n",
              "      <td>0</td>\n",
              "      <td>0</td>\n",
              "      <td>0</td>\n",
              "      <td>1</td>\n",
              "      <td>0</td>\n",
              "      <td>0</td>\n",
              "      <td>0</td>\n",
              "      <td>0</td>\n",
              "      <td>0</td>\n",
              "      <td>1</td>\n",
              "      <td>0</td>\n",
              "      <td>0</td>\n",
              "      <td>0</td>\n",
              "      <td>0</td>\n",
              "      <td>0</td>\n",
              "      <td>0</td>\n",
              "      <td>0</td>\n",
              "      <td>1</td>\n",
              "      <td>0</td>\n",
              "      <td>0</td>\n",
              "      <td>0</td>\n",
              "      <td>0</td>\n",
              "      <td>0</td>\n",
              "      <td>0</td>\n",
              "      <td>0</td>\n",
              "      <td>0</td>\n",
              "      <td>0</td>\n",
              "      <td>1</td>\n",
              "    </tr>\n",
              "    <tr>\n",
              "      <th>3</th>\n",
              "      <td>2018</td>\n",
              "      <td>1</td>\n",
              "      <td>0</td>\n",
              "      <td>0</td>\n",
              "      <td>0</td>\n",
              "      <td>1</td>\n",
              "      <td>0</td>\n",
              "      <td>0</td>\n",
              "      <td>1</td>\n",
              "      <td>1</td>\n",
              "      <td>0</td>\n",
              "      <td>0</td>\n",
              "      <td>1</td>\n",
              "      <td>0</td>\n",
              "      <td>0</td>\n",
              "      <td>0</td>\n",
              "      <td>0</td>\n",
              "      <td>0</td>\n",
              "      <td>0</td>\n",
              "      <td>1</td>\n",
              "      <td>0</td>\n",
              "      <td>0</td>\n",
              "      <td>0</td>\n",
              "      <td>0</td>\n",
              "      <td>0</td>\n",
              "      <td>1</td>\n",
              "      <td>0</td>\n",
              "      <td>0</td>\n",
              "      <td>0</td>\n",
              "      <td>0</td>\n",
              "      <td>0</td>\n",
              "      <td>0</td>\n",
              "      <td>1</td>\n",
              "      <td>0</td>\n",
              "      <td>0</td>\n",
              "      <td>0</td>\n",
              "      <td>0</td>\n",
              "      <td>0</td>\n",
              "      <td>0</td>\n",
              "    </tr>\n",
              "    <tr>\n",
              "      <th>4</th>\n",
              "      <td>2018</td>\n",
              "      <td>1</td>\n",
              "      <td>0</td>\n",
              "      <td>0</td>\n",
              "      <td>0</td>\n",
              "      <td>0</td>\n",
              "      <td>1</td>\n",
              "      <td>1</td>\n",
              "      <td>0</td>\n",
              "      <td>0</td>\n",
              "      <td>1</td>\n",
              "      <td>1</td>\n",
              "      <td>0</td>\n",
              "      <td>0</td>\n",
              "      <td>0</td>\n",
              "      <td>0</td>\n",
              "      <td>0</td>\n",
              "      <td>0</td>\n",
              "      <td>0</td>\n",
              "      <td>0</td>\n",
              "      <td>1</td>\n",
              "      <td>0</td>\n",
              "      <td>0</td>\n",
              "      <td>0</td>\n",
              "      <td>0</td>\n",
              "      <td>1</td>\n",
              "      <td>0</td>\n",
              "      <td>0</td>\n",
              "      <td>0</td>\n",
              "      <td>0</td>\n",
              "      <td>0</td>\n",
              "      <td>0</td>\n",
              "      <td>0</td>\n",
              "      <td>0</td>\n",
              "      <td>1</td>\n",
              "      <td>0</td>\n",
              "      <td>0</td>\n",
              "      <td>0</td>\n",
              "      <td>0</td>\n",
              "    </tr>\n",
              "  </tbody>\n",
              "</table>\n",
              "</div>"
            ],
            "text/plain": [
              "   YEAR  ...  TYPE_OF_JOB_Self employed\n",
              "0  2018  ...                          1\n",
              "1  2018  ...                          0\n",
              "2  2018  ...                          1\n",
              "3  2018  ...                          0\n",
              "4  2018  ...                          0\n",
              "\n",
              "[5 rows x 39 columns]"
            ]
          },
          "metadata": {
            "tags": []
          },
          "execution_count": 148
        }
      ]
    },
    {
      "cell_type": "code",
      "metadata": {
        "id": "mHFs902F3fh3"
      },
      "source": [
        "# Step 2\n",
        "# Splitting the dataset into the Training set and Test set\n",
        "\n",
        "from sklearn.model_selection import train_test_split\n",
        "\n",
        "X_train, X_test, y_train, y_test = train_test_split(X, y, test_size = 0.2, random_state = 0)"
      ],
      "execution_count": null,
      "outputs": []
    },
    {
      "cell_type": "code",
      "metadata": {
        "id": "dZYwcUTL3qGf"
      },
      "source": [
        "# Step 3\n",
        "# Normalization\n",
        "# PCA performs best with a normalized FEATURE SET (X). \n",
        "# We will perform standard scaler normalization to normalize our feature set\n",
        "\n",
        "from sklearn.preprocessing import StandardScaler\n",
        "\n",
        "sc = StandardScaler()\n",
        "X_train = sc.fit_transform(X_train)\n",
        "X_test = sc.fit_transform(X_test)"
      ],
      "execution_count": null,
      "outputs": []
    },
    {
      "cell_type": "code",
      "metadata": {
        "id": "ViZYzVw55eqm"
      },
      "source": [
        "# Step 4\n",
        "# Applying PCA\n",
        "# Performing PCA using Python's Scikit-Learn library.\n",
        "\n",
        "# PCA depends only upon the feature set and not the label data. \n",
        "# Therefore, PCA can be considered as an unsupervised machine learning technique.\n",
        "\n",
        "# Performing PCA using Scikit-Learn is a two-step process:\n",
        "# Initialize the PCA class by passing the number of components to the constructor.\n",
        "# Call the fit and then transform methods by passing the feature set to these methods. \n",
        "\n",
        "# The transform method returns the specified number of principal components.\n",
        "\n",
        "# In the code below, we create a PCA object named pca\n",
        "# We did not specify the number of components in the constructor. \n",
        "# Hence, all of the features in the feature set will be returned for both the training and test sets.\n",
        "# \n",
        "\n",
        "from sklearn.decomposition import PCA\n",
        "\n",
        "pca = PCA()\n",
        "X_train = pca.fit_transform(X_train)\n",
        "X_test = pca.fit_transform(X_test)"
      ],
      "execution_count": null,
      "outputs": []
    },
    {
      "cell_type": "code",
      "metadata": {
        "id": "71Bn3OeN6bLk",
        "outputId": "32a987fb-fdd9-4437-e61d-fba039d290c8",
        "colab": {
          "base_uri": "https://localhost:8080/",
          "height": 191
        }
      },
      "source": [
        "# Step 5\n",
        "# Explained Variance Ratio\n",
        "# The PCA class contains explained_variance_ratio_ which returns the variance caused by each of the principal components. \n",
        "# The line of code below will output the \"explained variance ratio\".\n",
        "# \n",
        "\n",
        "\n",
        "explained_variance = pca.explained_variance_ratio_\n",
        "explained_variance"
      ],
      "execution_count": null,
      "outputs": [
        {
          "output_type": "execute_result",
          "data": {
            "text/plain": [
              "array([9.81637250e-02, 7.59958611e-02, 6.70236663e-02, 6.00336230e-02,\n",
              "       5.41873046e-02, 4.55797100e-02, 4.14544887e-02, 3.73412493e-02,\n",
              "       3.65900249e-02, 3.31781046e-02, 3.17434459e-02, 2.87835066e-02,\n",
              "       2.79417533e-02, 2.71402095e-02, 2.64698416e-02, 2.63154479e-02,\n",
              "       2.57048130e-02, 2.54979900e-02, 2.53310628e-02, 2.45560755e-02,\n",
              "       2.40084442e-02, 2.38924439e-02, 2.31805119e-02, 2.21900439e-02,\n",
              "       2.01717459e-02, 1.74407360e-02, 1.60500388e-02, 1.23444053e-02,\n",
              "       1.17163154e-02, 9.67880630e-03, 1.02050606e-04, 8.29240494e-05,\n",
              "       5.60706726e-05, 3.98945170e-05, 7.69022313e-06, 5.97481900e-06,\n",
              "       1.25752620e-31, 6.70987834e-32, 9.69365644e-33])"
            ]
          },
          "metadata": {
            "tags": []
          },
          "execution_count": 152
        }
      ]
    },
    {
      "cell_type": "code",
      "metadata": {
        "id": "cXa_6g6K7w3n"
      },
      "source": [
        "from sklearn.decomposition import PCA\n",
        "\n",
        "pca = PCA(n_components=4)\n",
        "X_train = pca.fit_transform(X_train)\n",
        "X_test = pca.transform(X_test)"
      ],
      "execution_count": null,
      "outputs": []
    },
    {
      "cell_type": "code",
      "metadata": {
        "id": "av7m-bzm8Fia",
        "outputId": "25613481-afb5-410e-a230-c35208e94318",
        "colab": {
          "base_uri": "https://localhost:8080/",
          "height": 381
        }
      },
      "source": [
        "# step 6\n",
        "# Training and and Making Predictions \n",
        "# Here we use random forest classification for making predictions\n",
        "\n",
        "from sklearn.ensemble import RandomForestClassifier\n",
        "\n",
        "classifier = RandomForestClassifier(max_depth = 2, random_state = 0)\n",
        "classifier.fit(X_train, y_train)\n",
        "\n",
        "# predicting the Test set results\n",
        "\n",
        "y_pred = classifier.predict(X_test)\n"
      ],
      "execution_count": null,
      "outputs": [
        {
          "output_type": "error",
          "ename": "ValueError",
          "evalue": "ignored",
          "traceback": [
            "\u001b[0;31m---------------------------------------------------------------------------\u001b[0m",
            "\u001b[0;31mValueError\u001b[0m                                Traceback (most recent call last)",
            "\u001b[0;32m<ipython-input-160-a446898c4487>\u001b[0m in \u001b[0;36m<module>\u001b[0;34m()\u001b[0m\n\u001b[1;32m      6\u001b[0m \u001b[0;34m\u001b[0m\u001b[0m\n\u001b[1;32m      7\u001b[0m \u001b[0mclassifier\u001b[0m \u001b[0;34m=\u001b[0m \u001b[0mRandomForestClassifier\u001b[0m\u001b[0;34m(\u001b[0m\u001b[0mmax_depth\u001b[0m \u001b[0;34m=\u001b[0m \u001b[0;36m2\u001b[0m\u001b[0;34m,\u001b[0m \u001b[0mrandom_state\u001b[0m \u001b[0;34m=\u001b[0m \u001b[0;36m0\u001b[0m\u001b[0;34m)\u001b[0m\u001b[0;34m\u001b[0m\u001b[0;34m\u001b[0m\u001b[0m\n\u001b[0;32m----> 8\u001b[0;31m \u001b[0mclassifier\u001b[0m\u001b[0;34m.\u001b[0m\u001b[0mfit\u001b[0m\u001b[0;34m(\u001b[0m\u001b[0mX_train\u001b[0m\u001b[0;34m,\u001b[0m \u001b[0my_train\u001b[0m\u001b[0;34m)\u001b[0m\u001b[0;34m\u001b[0m\u001b[0;34m\u001b[0m\u001b[0m\n\u001b[0m\u001b[1;32m      9\u001b[0m \u001b[0;34m\u001b[0m\u001b[0m\n\u001b[1;32m     10\u001b[0m \u001b[0;31m# predicting the Test set results\u001b[0m\u001b[0;34m\u001b[0m\u001b[0;34m\u001b[0m\u001b[0;34m\u001b[0m\u001b[0m\n",
            "\u001b[0;32m/usr/local/lib/python3.6/dist-packages/sklearn/ensemble/_forest.py\u001b[0m in \u001b[0;36mfit\u001b[0;34m(self, X, y, sample_weight)\u001b[0m\n\u001b[1;32m    294\u001b[0m         \u001b[0;31m# Validate or convert input data\u001b[0m\u001b[0;34m\u001b[0m\u001b[0;34m\u001b[0m\u001b[0;34m\u001b[0m\u001b[0m\n\u001b[1;32m    295\u001b[0m         \u001b[0mX\u001b[0m \u001b[0;34m=\u001b[0m \u001b[0mcheck_array\u001b[0m\u001b[0;34m(\u001b[0m\u001b[0mX\u001b[0m\u001b[0;34m,\u001b[0m \u001b[0maccept_sparse\u001b[0m\u001b[0;34m=\u001b[0m\u001b[0;34m\"csc\"\u001b[0m\u001b[0;34m,\u001b[0m \u001b[0mdtype\u001b[0m\u001b[0;34m=\u001b[0m\u001b[0mDTYPE\u001b[0m\u001b[0;34m)\u001b[0m\u001b[0;34m\u001b[0m\u001b[0;34m\u001b[0m\u001b[0m\n\u001b[0;32m--> 296\u001b[0;31m         \u001b[0my\u001b[0m \u001b[0;34m=\u001b[0m \u001b[0mcheck_array\u001b[0m\u001b[0;34m(\u001b[0m\u001b[0my\u001b[0m\u001b[0;34m,\u001b[0m \u001b[0maccept_sparse\u001b[0m\u001b[0;34m=\u001b[0m\u001b[0;34m'csc'\u001b[0m\u001b[0;34m,\u001b[0m \u001b[0mensure_2d\u001b[0m\u001b[0;34m=\u001b[0m\u001b[0;32mFalse\u001b[0m\u001b[0;34m,\u001b[0m \u001b[0mdtype\u001b[0m\u001b[0;34m=\u001b[0m\u001b[0;32mNone\u001b[0m\u001b[0;34m)\u001b[0m\u001b[0;34m\u001b[0m\u001b[0;34m\u001b[0m\u001b[0m\n\u001b[0m\u001b[1;32m    297\u001b[0m         \u001b[0;32mif\u001b[0m \u001b[0msample_weight\u001b[0m \u001b[0;32mis\u001b[0m \u001b[0;32mnot\u001b[0m \u001b[0;32mNone\u001b[0m\u001b[0;34m:\u001b[0m\u001b[0;34m\u001b[0m\u001b[0;34m\u001b[0m\u001b[0m\n\u001b[1;32m    298\u001b[0m             \u001b[0msample_weight\u001b[0m \u001b[0;34m=\u001b[0m \u001b[0m_check_sample_weight\u001b[0m\u001b[0;34m(\u001b[0m\u001b[0msample_weight\u001b[0m\u001b[0;34m,\u001b[0m \u001b[0mX\u001b[0m\u001b[0;34m)\u001b[0m\u001b[0;34m\u001b[0m\u001b[0;34m\u001b[0m\u001b[0m\n",
            "\u001b[0;32m/usr/local/lib/python3.6/dist-packages/sklearn/utils/validation.py\u001b[0m in \u001b[0;36mcheck_array\u001b[0;34m(array, accept_sparse, accept_large_sparse, dtype, order, copy, force_all_finite, ensure_2d, allow_nd, ensure_min_samples, ensure_min_features, warn_on_dtype, estimator)\u001b[0m\n\u001b[1;32m    576\u001b[0m         \u001b[0;32mif\u001b[0m \u001b[0mforce_all_finite\u001b[0m\u001b[0;34m:\u001b[0m\u001b[0;34m\u001b[0m\u001b[0;34m\u001b[0m\u001b[0m\n\u001b[1;32m    577\u001b[0m             _assert_all_finite(array,\n\u001b[0;32m--> 578\u001b[0;31m                                allow_nan=force_all_finite == 'allow-nan')\n\u001b[0m\u001b[1;32m    579\u001b[0m \u001b[0;34m\u001b[0m\u001b[0m\n\u001b[1;32m    580\u001b[0m     \u001b[0;32mif\u001b[0m \u001b[0mensure_min_samples\u001b[0m \u001b[0;34m>\u001b[0m \u001b[0;36m0\u001b[0m\u001b[0;34m:\u001b[0m\u001b[0;34m\u001b[0m\u001b[0;34m\u001b[0m\u001b[0m\n",
            "\u001b[0;32m/usr/local/lib/python3.6/dist-packages/sklearn/utils/validation.py\u001b[0m in \u001b[0;36m_assert_all_finite\u001b[0;34m(X, allow_nan, msg_dtype)\u001b[0m\n\u001b[1;32m     63\u001b[0m     \u001b[0;32melif\u001b[0m \u001b[0mX\u001b[0m\u001b[0;34m.\u001b[0m\u001b[0mdtype\u001b[0m \u001b[0;34m==\u001b[0m \u001b[0mnp\u001b[0m\u001b[0;34m.\u001b[0m\u001b[0mdtype\u001b[0m\u001b[0;34m(\u001b[0m\u001b[0;34m'object'\u001b[0m\u001b[0;34m)\u001b[0m \u001b[0;32mand\u001b[0m \u001b[0;32mnot\u001b[0m \u001b[0mallow_nan\u001b[0m\u001b[0;34m:\u001b[0m\u001b[0;34m\u001b[0m\u001b[0;34m\u001b[0m\u001b[0m\n\u001b[1;32m     64\u001b[0m         \u001b[0;32mif\u001b[0m \u001b[0m_object_dtype_isnan\u001b[0m\u001b[0;34m(\u001b[0m\u001b[0mX\u001b[0m\u001b[0;34m)\u001b[0m\u001b[0;34m.\u001b[0m\u001b[0many\u001b[0m\u001b[0;34m(\u001b[0m\u001b[0;34m)\u001b[0m\u001b[0;34m:\u001b[0m\u001b[0;34m\u001b[0m\u001b[0;34m\u001b[0m\u001b[0m\n\u001b[0;32m---> 65\u001b[0;31m             \u001b[0;32mraise\u001b[0m \u001b[0mValueError\u001b[0m\u001b[0;34m(\u001b[0m\u001b[0;34m\"Input contains NaN\"\u001b[0m\u001b[0;34m)\u001b[0m\u001b[0;34m\u001b[0m\u001b[0;34m\u001b[0m\u001b[0m\n\u001b[0m\u001b[1;32m     66\u001b[0m \u001b[0;34m\u001b[0m\u001b[0m\n\u001b[1;32m     67\u001b[0m \u001b[0;34m\u001b[0m\u001b[0m\n",
            "\u001b[0;31mValueError\u001b[0m: Input contains NaN"
          ]
        }
      ]
    },
    {
      "cell_type": "code",
      "metadata": {
        "id": "AioubfU39VzT"
      },
      "source": [
        "# Step 7: Performance Evaluation\n",
        "# \n",
        "from sklearn.metrics import confusion_matrix\n",
        "from sklearn.metrics import accuracy_score\n",
        "\n",
        "cm = confusion_matrix(y_test, y_pred)\n",
        "print(cm)\n",
        "print('Accuracy' , accuracy_score(y_test, y_pred))"
      ],
      "execution_count": null,
      "outputs": []
    }
  ]
}